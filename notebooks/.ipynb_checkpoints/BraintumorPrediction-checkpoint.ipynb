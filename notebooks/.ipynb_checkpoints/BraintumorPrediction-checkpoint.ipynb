{
 "cells": [
  {
   "cell_type": "code",
   "execution_count": 2,
   "id": "a9c2c384-c0c1-45b9-b5a2-ec984b3062dd",
   "metadata": {},
   "outputs": [],
   "source": [
    "import cv2\n",
    "from keras.models import load_model\n",
    "from PIL import Image\n",
    "import numpy as np\n",
    "from scipy.special import softmax\n",
    "\n",
    "model = load_model('../models/BrainTumor15Epochscategorical.h5')\n",
    "\n"
   ]
  },
  {
   "cell_type": "code",
   "execution_count": 10,
   "id": "94590a33-d485-48d3-8a46-b2f75e675f49",
   "metadata": {},
   "outputs": [
    {
     "name": "stdout",
     "output_type": "stream",
     "text": [
      "1/1 [==============================] - 0s 34ms/step\n",
      "Predicted Class: 0\n",
      "Confidence: 73.11%\n"
     ]
    }
   ],
   "source": [
    "xray = cv2.imread('../uploads/tumor/pred0.jpg')\n",
    "img = Image.fromarray(xray)\n",
    "img = img.resize((64, 64))\n",
    "img = np.array(img)\n",
    "\n",
    "# Normalize the image (you might need to normalize it the same way as in your training data)\n",
    "img = img / 255.0  \n",
    "\n",
    "input_xray = np.expand_dims(img, axis=0)\n",
    "result = model.predict(input_xray)\n",
    "\n",
    "# Extract softmax probabilities\n",
    "softmax_probs = softmax(result)\n",
    "\n",
    "# Get the predicted class and its confidence\n",
    "predicted_class = np.argmax(result)\n",
    "confidence = softmax_probs[0, predicted_class]\n",
    "\n",
    "print(\"Predicted Class:\", predicted_class)\n",
    "print(\"Confidence: {:.2%}\".format(confidence))\n"
   ]
  },
  {
   "cell_type": "code",
   "execution_count": null,
   "id": "a63139ea-fee9-4c26-b538-2dae6c4f2c92",
   "metadata": {},
   "outputs": [],
   "source": []
  }
 ],
 "metadata": {
  "kernelspec": {
   "display_name": "Python 3 (ipykernel)",
   "language": "python",
   "name": "python3"
  },
  "language_info": {
   "codemirror_mode": {
    "name": "ipython",
    "version": 3
   },
   "file_extension": ".py",
   "mimetype": "text/x-python",
   "name": "python",
   "nbconvert_exporter": "python",
   "pygments_lexer": "ipython3",
   "version": "3.10.4"
  }
 },
 "nbformat": 4,
 "nbformat_minor": 5
}
