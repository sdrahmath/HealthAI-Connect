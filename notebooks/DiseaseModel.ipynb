{
 "cells": [
  {
   "cell_type": "code",
   "execution_count": null,
   "id": "d89debd4-b6ee-42ab-8ac9-f2dd2d9b91b2",
   "metadata": {},
   "outputs": [],
   "source": []
  },
  {
   "cell_type": "code",
   "execution_count": 9,
   "id": "2c84b094-c120-4390-a1d8-971fe233bf1a",
   "metadata": {},
   "outputs": [
    {
     "data": {
      "text/html": [
       "<style>#sk-container-id-1 {color: black;}#sk-container-id-1 pre{padding: 0;}#sk-container-id-1 div.sk-toggleable {background-color: white;}#sk-container-id-1 label.sk-toggleable__label {cursor: pointer;display: block;width: 100%;margin-bottom: 0;padding: 0.3em;box-sizing: border-box;text-align: center;}#sk-container-id-1 label.sk-toggleable__label-arrow:before {content: \"▸\";float: left;margin-right: 0.25em;color: #696969;}#sk-container-id-1 label.sk-toggleable__label-arrow:hover:before {color: black;}#sk-container-id-1 div.sk-estimator:hover label.sk-toggleable__label-arrow:before {color: black;}#sk-container-id-1 div.sk-toggleable__content {max-height: 0;max-width: 0;overflow: hidden;text-align: left;background-color: #f0f8ff;}#sk-container-id-1 div.sk-toggleable__content pre {margin: 0.2em;color: black;border-radius: 0.25em;background-color: #f0f8ff;}#sk-container-id-1 input.sk-toggleable__control:checked~div.sk-toggleable__content {max-height: 200px;max-width: 100%;overflow: auto;}#sk-container-id-1 input.sk-toggleable__control:checked~label.sk-toggleable__label-arrow:before {content: \"▾\";}#sk-container-id-1 div.sk-estimator input.sk-toggleable__control:checked~label.sk-toggleable__label {background-color: #d4ebff;}#sk-container-id-1 div.sk-label input.sk-toggleable__control:checked~label.sk-toggleable__label {background-color: #d4ebff;}#sk-container-id-1 input.sk-hidden--visually {border: 0;clip: rect(1px 1px 1px 1px);clip: rect(1px, 1px, 1px, 1px);height: 1px;margin: -1px;overflow: hidden;padding: 0;position: absolute;width: 1px;}#sk-container-id-1 div.sk-estimator {font-family: monospace;background-color: #f0f8ff;border: 1px dotted black;border-radius: 0.25em;box-sizing: border-box;margin-bottom: 0.5em;}#sk-container-id-1 div.sk-estimator:hover {background-color: #d4ebff;}#sk-container-id-1 div.sk-parallel-item::after {content: \"\";width: 100%;border-bottom: 1px solid gray;flex-grow: 1;}#sk-container-id-1 div.sk-label:hover label.sk-toggleable__label {background-color: #d4ebff;}#sk-container-id-1 div.sk-serial::before {content: \"\";position: absolute;border-left: 1px solid gray;box-sizing: border-box;top: 0;bottom: 0;left: 50%;z-index: 0;}#sk-container-id-1 div.sk-serial {display: flex;flex-direction: column;align-items: center;background-color: white;padding-right: 0.2em;padding-left: 0.2em;position: relative;}#sk-container-id-1 div.sk-item {position: relative;z-index: 1;}#sk-container-id-1 div.sk-parallel {display: flex;align-items: stretch;justify-content: center;background-color: white;position: relative;}#sk-container-id-1 div.sk-item::before, #sk-container-id-1 div.sk-parallel-item::before {content: \"\";position: absolute;border-left: 1px solid gray;box-sizing: border-box;top: 0;bottom: 0;left: 50%;z-index: -1;}#sk-container-id-1 div.sk-parallel-item {display: flex;flex-direction: column;z-index: 1;position: relative;background-color: white;}#sk-container-id-1 div.sk-parallel-item:first-child::after {align-self: flex-end;width: 50%;}#sk-container-id-1 div.sk-parallel-item:last-child::after {align-self: flex-start;width: 50%;}#sk-container-id-1 div.sk-parallel-item:only-child::after {width: 0;}#sk-container-id-1 div.sk-dashed-wrapped {border: 1px dashed gray;margin: 0 0.4em 0.5em 0.4em;box-sizing: border-box;padding-bottom: 0.4em;background-color: white;}#sk-container-id-1 div.sk-label label {font-family: monospace;font-weight: bold;display: inline-block;line-height: 1.2em;}#sk-container-id-1 div.sk-label-container {text-align: center;}#sk-container-id-1 div.sk-container {/* jupyter's `normalize.less` sets `[hidden] { display: none; }` but bootstrap.min.css set `[hidden] { display: none !important; }` so we also need the `!important` here to be able to override the default hidden behavior on the sphinx rendered scikit-learn.org. See: https://github.com/scikit-learn/scikit-learn/issues/21755 */display: inline-block !important;position: relative;}#sk-container-id-1 div.sk-text-repr-fallback {display: none;}</style><div id=\"sk-container-id-1\" class=\"sk-top-container\"><div class=\"sk-text-repr-fallback\"><pre>RandomForestClassifier(max_depth=13, n_estimators=500, random_state=42)</pre><b>In a Jupyter environment, please rerun this cell to show the HTML representation or trust the notebook. <br />On GitHub, the HTML representation is unable to render, please try loading this page with nbviewer.org.</b></div><div class=\"sk-container\" hidden><div class=\"sk-item\"><div class=\"sk-estimator sk-toggleable\"><input class=\"sk-toggleable__control sk-hidden--visually\" id=\"sk-estimator-id-1\" type=\"checkbox\" checked><label for=\"sk-estimator-id-1\" class=\"sk-toggleable__label sk-toggleable__label-arrow\">RandomForestClassifier</label><div class=\"sk-toggleable__content\"><pre>RandomForestClassifier(max_depth=13, n_estimators=500, random_state=42)</pre></div></div></div></div></div>"
      ],
      "text/plain": [
       "RandomForestClassifier(max_depth=13, n_estimators=500, random_state=42)"
      ]
     },
     "execution_count": 9,
     "metadata": {},
     "output_type": "execute_result"
    }
   ],
   "source": [
    "import pandas as pd\n",
    "import numpy as np\n",
    "import joblib \n",
    "import pickle as pk\n",
    "from sklearn.ensemble import RandomForestClassifier\n",
    "from sklearn.model_selection import train_test_split\n",
    "\n",
    "\n",
    "df1 = pd.read_csv('../data/Symptom-severity.csv')\n",
    "df1['Symptom'] = df1['Symptom'].str.replace('_',' ')\n",
    "\n",
    "discrp = pd.read_csv(\"../data/symptom_Description.csv\")\n",
    "ektra7at = pd.read_csv(\"../data/symptom_precaution.csv\")\n",
    "df = pd.read_csv('../data/dataset.csv')\n",
    "for col in df.columns:\n",
    "    df[col] = df[col].str.replace('_',' ')\n",
    "\n",
    "columns_to_drop = ['Symptom_7', 'Symptom_8', 'Symptom_9', 'Symptom_10', 'Symptom_11',\n",
    "                    'Symptom_12', 'Symptom_13', 'Symptom_14', 'Symptom_15', 'Symptom_16', 'Symptom_17']\n",
    "\n",
    "df = df.drop(columns=columns_to_drop)\n",
    "cols = df.columns\n",
    "data = df[cols].values.flatten()\n",
    "\n",
    "s = pd.Series(data)\n",
    "s = s.str.strip()\n",
    "s = s.values.reshape(df.shape)\n",
    "\n",
    "df = pd.DataFrame(s, columns=df.columns)\n",
    "df = df.fillna(0)\n",
    "vals = df.values\n",
    "symptoms = df1['Symptom'].unique()\n",
    "\n",
    "for i in range(len(symptoms)):\n",
    "    vals[vals == symptoms[i]] = df1[df1['Symptom'] == symptoms[i]]['weight'].values[0]\n",
    "    \n",
    "d = pd.DataFrame(vals, columns=cols)\n",
    "d = d.replace('dischromic  patches', 0)\n",
    "d = d.replace('spotting  urination',0)\n",
    "df = d.replace('foul smell of urine',0)\n",
    "\n",
    "data = df.iloc[:,1:].values\n",
    "labels = df['Disease'].values\n",
    "x_train, x_test, y_train, y_test = train_test_split(data, labels, train_size = 0.8,random_state=42)\n",
    "rnd_forest = RandomForestClassifier(random_state=42, max_features='sqrt', n_estimators= 500, max_depth=13)\n",
    "rnd_forest.fit(x_train,y_train)"
   ]
  },
  {
   "cell_type": "code",
   "execution_count": 3,
   "id": "7bdcdc5e-78cc-4f47-93ea-143bccf183fe",
   "metadata": {},
   "outputs": [],
   "source": [
    "with open(\"symptoms.pkl\",\"wb\") as f:\n",
    "    pk.dump(rnd_forest,f)"
   ]
  },
  {
   "cell_type": "code",
   "execution_count": 2,
   "id": "d8454107-d6f8-48c9-a886-d9c7fe0bd7b8",
   "metadata": {},
   "outputs": [],
   "source": [
    "import pickle\n",
    "\n",
    "# Load the model from the pickle file\n",
    "with open('../models/symptoms.pkl', 'rb') as file:\n",
    "    loaded_model = pickle.load(file)"
   ]
  },
  {
   "cell_type": "code",
   "execution_count": 20,
   "id": "fa4ceb20-5351-4392-99e6-167dea5a48c5",
   "metadata": {},
   "outputs": [],
   "source": [
    "import numpy as np\n",
    "def predd(loaded_model, S1, S2, S3, S4, S5, S6):\n",
    "    psymptoms = [S1, S2, S3, S4, S5, S6]\n",
    "    selected_symptoms = []\n",
    "    a = np.array(df1[\"Symptom\"])\n",
    "    b = np.array(df1[\"weight\"])\n",
    "    for j in range(len(psymptoms)):\n",
    "        for k in range(len(a)):\n",
    "            if psymptoms[j] == a[k]:\n",
    "                selected_symptoms.append(a[k])\n",
    "                psymptoms[j] = b[k]\n",
    "    psy = [psymptoms]\n",
    "    # Get prediction and decision function scores\n",
    "    pred2 = loaded_model.predict(psy)\n",
    "    decision_function_scores = loaded_model.predict_proba(psy)\n",
    "    \n",
    "    # Get the index of the predicted class\n",
    "    predicted_class_index = np.argmax(decision_function_scores)\n",
    "    confidence_percentage = decision_function_scores[0, predicted_class_index] * 100\n",
    "    # Additional code for getting disease description and recommendations\n",
    "    disp = discrp[discrp['Disease'] == pred2[0]]\n",
    "    disp = disp.values[0][1]\n",
    "    recomnd = ektra7at[ektra7at['Disease'] == pred2[0]]\n",
    "    c = np.where(ektra7at['Disease'] == pred2[0])[0][0]\n",
    "    precaution_list = []\n",
    "    for i in range(1, len(ektra7at.iloc[c])):\n",
    "        precaution_list.append(ektra7at.iloc[c, i])\n",
    "\n",
    "    print(\"The Disease Name: \", pred2[0])\n",
    "    print(\"The Disease Description: \", disp)\n",
    "    print(\"Recommended Things to do at home: \")\n",
    "    for i in precaution_list:\n",
    "        print(i)\n",
    "    \n",
    "    return pred2[0], confidence_percentage\n"
   ]
  },
  {
   "cell_type": "code",
   "execution_count": 21,
   "id": "6b0f09f1-3aa6-4280-a4b9-f744527de2e0",
   "metadata": {},
   "outputs": [
    {
     "name": "stdout",
     "output_type": "stream",
     "text": [
      "['itching', 'skin rash', 'nodal skin eruptions']\n",
      "The Disease Name:  Fungal infection\n",
      "The Disease Description:  In humans, fungal infections occur when an invading fungus takes over an area of the body and is too much for the immune system to handle. Fungi can live in the air, soil, water, and plants. There are also some fungi that live naturally in the human body. Like many microbes, there are helpful fungi and harmful fungi.\n",
      "Recommended Things to do at home: \n",
      "bath twice\n",
      "use detol or neem in bathing water\n",
      "keep infected area dry\n",
      "use clean cloths\n"
     ]
    },
    {
     "data": {
      "text/plain": [
       "('Fungal infection', 100.0)"
      ]
     },
     "execution_count": 21,
     "metadata": {},
     "output_type": "execute_result"
    }
   ],
   "source": [
    "predd(loaded_model,'itching', 'skin rash', 'nodal skin eruptions',0,0,0)"
   ]
  },
  {
   "cell_type": "code",
   "execution_count": 22,
   "id": "2ca02d2a-aac7-410d-a9ac-bbf94ce150c2",
   "metadata": {},
   "outputs": [
    {
     "name": "stdout",
     "output_type": "stream",
     "text": [
      "The Disease Name:  Allergy\n",
      "The Disease Description:  An allergy is an immune system response to a foreign substance that's not typically harmful to your body.They can include certain foods, pollen, or pet dander. Your immune system's job is to keep you healthy by fighting harmful pathogens.\n",
      "Recommended Things to do at home: \n",
      "apply calamine\n",
      "cover area with bandage\n",
      "nan\n",
      "use ice to compress itching\n"
     ]
    }
   ],
   "source": [
    "result, confidence_scores = predd(rnd_forest,'continuous sneezing', 'skin rash', 'nodal skin eruptions',0,0,0)"
   ]
  },
  {
   "cell_type": "code",
   "execution_count": 23,
   "id": "ae4d1ebd-8757-48fe-ad8d-f8a0135f4379",
   "metadata": {},
   "outputs": [
    {
     "name": "stdout",
     "output_type": "stream",
     "text": [
      "Confidence Scores:  87.93602275020105\n"
     ]
    }
   ],
   "source": [
    "print(\"Confidence Score: {:.2f}%\".format(confidence_scores * 100))"
   ]
  },
  {
   "cell_type": "code",
   "execution_count": null,
   "id": "15c5ed11-ffdf-40d2-bd04-3772fa6ec7fe",
   "metadata": {},
   "outputs": [],
   "source": []
  }
 ],
 "metadata": {
  "kernelspec": {
   "display_name": "Python 3 (ipykernel)",
   "language": "python",
   "name": "python3"
  },
  "language_info": {
   "codemirror_mode": {
    "name": "ipython",
    "version": 3
   },
   "file_extension": ".py",
   "mimetype": "text/x-python",
   "name": "python",
   "nbconvert_exporter": "python",
   "pygments_lexer": "ipython3",
   "version": "3.10.4"
  }
 },
 "nbformat": 4,
 "nbformat_minor": 5
}
