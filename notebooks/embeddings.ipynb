{
 "cells": [
  {
   "cell_type": "code",
   "execution_count": 3,
   "id": "7bdb1470-f6b7-4513-971f-1ba5c4393d4d",
   "metadata": {},
   "outputs": [
    {
     "name": "stderr",
     "output_type": "stream",
     "text": [
      "Created a chunk of size 1083, which is longer than the specified 1000\n",
      "No sentence-transformers model found with name C:\\Users\\SYED AZIZ AHMED/.cache\\torch\\sentence_transformers\\deepset_sentence_bert. Creating a new one with MEAN pooling.\n"
     ]
    }
   ],
   "source": [
    "from PyPDF2 import PdfReader\n",
    "from langchain.text_splitter import CharacterTextSplitter\n",
    "from langchain.text_splitter import RecursiveCharacterTextSplitter\n",
    "from langchain.document_loaders import UnstructuredURLLoader\n",
    "from langchain.embeddings import HuggingFaceEmbeddings\n",
    "from langchain.vectorstores import FAISS\n",
    "import pickle\n",
    "pdf=\"C:/Users/SYED AZIZ AHMED/Downloads/ilovepdf_merged (1).pdf\"\n",
    "\n",
    "text = \"\"\n",
    "pdf_reader = PdfReader(pdf)\n",
    "for page in pdf_reader.pages:\n",
    "  text += page.extract_text()\n",
    "\n",
    "\n",
    "text_splitter = CharacterTextSplitter(\n",
    "                          separator=\"\\n\",\n",
    "                          chunk_size=1000,\n",
    "                          chunk_overlap=200,\n",
    "                          length_function=len\n",
    "                      )\n",
    "chunks = text_splitter.split_text(text)\n",
    "embeddings = HuggingFaceEmbeddings(model_name=\"deepset/sentence_bert\")\n",
    "knowledge_base = FAISS.from_texts(chunks, embeddings)\n",
    "knowledge_base.save_local('embed')"
   ]
  },
  {
   "cell_type": "code",
   "execution_count": 1,
   "id": "15a8b840-5789-46d5-9439-2ba5a40f05e3",
   "metadata": {},
   "outputs": [
    {
     "name": "stdout",
     "output_type": "stream",
     "text": [
      "Requirement already satisfied: langchain in c:\\users\\syed aziz ahmed\\appdata\\local\\programs\\python\\python310\\lib\\site-packages (0.0.284)\n",
      "Requirement already satisfied: faiss-cpu in c:\\users\\syed aziz ahmed\\appdata\\local\\programs\\python\\python310\\lib\\site-packages (1.7.4)\n",
      "Requirement already satisfied: PyPDF2 in c:\\users\\syed aziz ahmed\\appdata\\local\\programs\\python\\python310\\lib\\site-packages (3.0.1)\n",
      "Requirement already satisfied: sentence-transformers in c:\\users\\syed aziz ahmed\\appdata\\local\\programs\\python\\python310\\lib\\site-packages (2.2.2)\n",
      "Requirement already satisfied: dataclasses-json<0.6.0,>=0.5.7 in c:\\users\\syed aziz ahmed\\appdata\\local\\programs\\python\\python310\\lib\\site-packages (from langchain) (0.5.14)\n",
      "Requirement already satisfied: langsmith<0.1.0,>=0.0.21 in c:\\users\\syed aziz ahmed\\appdata\\local\\programs\\python\\python310\\lib\\site-packages (from langchain) (0.0.69)\n",
      "Requirement already satisfied: pydantic<3,>=1 in c:\\users\\syed aziz ahmed\\appdata\\local\\programs\\python\\python310\\lib\\site-packages (from langchain) (2.4.1)\n",
      "Requirement already satisfied: SQLAlchemy<3,>=1.4 in c:\\users\\syed aziz ahmed\\appdata\\local\\programs\\python\\python310\\lib\\site-packages (from langchain) (2.0.23)\n",
      "Requirement already satisfied: async-timeout<5.0.0,>=4.0.0 in c:\\users\\syed aziz ahmed\\appdata\\local\\programs\\python\\python310\\lib\\site-packages (from langchain) (4.0.3)\n",
      "Requirement already satisfied: numpy<2,>=1 in c:\\users\\syed aziz ahmed\\appdata\\local\\programs\\python\\python310\\lib\\site-packages (from langchain) (1.24.1)\n",
      "Requirement already satisfied: requests<3,>=2 in c:\\users\\syed aziz ahmed\\appdata\\local\\programs\\python\\python310\\lib\\site-packages (from langchain) (2.31.0)\n",
      "Requirement already satisfied: aiohttp<4.0.0,>=3.8.3 in c:\\users\\syed aziz ahmed\\appdata\\local\\programs\\python\\python310\\lib\\site-packages (from langchain) (3.8.5)\n",
      "Requirement already satisfied: numexpr<3.0.0,>=2.8.4 in c:\\users\\syed aziz ahmed\\appdata\\local\\programs\\python\\python310\\lib\\site-packages (from langchain) (2.8.7)\n",
      "Requirement already satisfied: PyYAML>=5.3 in c:\\users\\syed aziz ahmed\\appdata\\local\\programs\\python\\python310\\lib\\site-packages (from langchain) (6.0.1)\n",
      "Requirement already satisfied: tenacity<9.0.0,>=8.1.0 in c:\\users\\syed aziz ahmed\\appdata\\local\\programs\\python\\python310\\lib\\site-packages (from langchain) (8.2.2)\n",
      "Requirement already satisfied: scikit-learn in c:\\users\\syed aziz ahmed\\appdata\\local\\programs\\python\\python310\\lib\\site-packages (from sentence-transformers) (1.3.2)\n",
      "Requirement already satisfied: torch>=1.6.0 in c:\\users\\syed aziz ahmed\\appdata\\local\\programs\\python\\python310\\lib\\site-packages (from sentence-transformers) (2.1.0+cu121)\n",
      "Requirement already satisfied: huggingface-hub>=0.4.0 in c:\\users\\syed aziz ahmed\\appdata\\local\\programs\\python\\python310\\lib\\site-packages (from sentence-transformers) (0.16.4)\n",
      "Requirement already satisfied: torchvision in c:\\users\\syed aziz ahmed\\appdata\\local\\programs\\python\\python310\\lib\\site-packages (from sentence-transformers) (0.16.0+cu121)\n",
      "Requirement already satisfied: scipy in c:\\users\\syed aziz ahmed\\appdata\\local\\programs\\python\\python310\\lib\\site-packages (from sentence-transformers) (1.9.3)\n",
      "Requirement already satisfied: transformers<5.0.0,>=4.6.0 in c:\\users\\syed aziz ahmed\\appdata\\local\\programs\\python\\python310\\lib\\site-packages (from sentence-transformers) (4.31.0)\n",
      "Requirement already satisfied: nltk in c:\\users\\syed aziz ahmed\\appdata\\local\\programs\\python\\python310\\lib\\site-packages (from sentence-transformers) (3.8.1)\n",
      "Requirement already satisfied: tqdm in c:\\users\\syed aziz ahmed\\appdata\\local\\programs\\python\\python310\\lib\\site-packages (from sentence-transformers) (4.65.0)\n",
      "Requirement already satisfied: sentencepiece in c:\\users\\syed aziz ahmed\\appdata\\local\\programs\\python\\python310\\lib\\site-packages (from sentence-transformers) (0.1.99)\n",
      "Requirement already satisfied: charset-normalizer<4.0,>=2.0 in c:\\users\\syed aziz ahmed\\appdata\\local\\programs\\python\\python310\\lib\\site-packages (from aiohttp<4.0.0,>=3.8.3->langchain) (3.1.0)\n",
      "Requirement already satisfied: aiosignal>=1.1.2 in c:\\users\\syed aziz ahmed\\appdata\\local\\programs\\python\\python310\\lib\\site-packages (from aiohttp<4.0.0,>=3.8.3->langchain) (1.3.1)\n",
      "Requirement already satisfied: attrs>=17.3.0 in c:\\users\\syed aziz ahmed\\appdata\\local\\programs\\python\\python310\\lib\\site-packages (from aiohttp<4.0.0,>=3.8.3->langchain) (23.1.0)\n",
      "Requirement already satisfied: yarl<2.0,>=1.0 in c:\\users\\syed aziz ahmed\\appdata\\local\\programs\\python\\python310\\lib\\site-packages (from aiohttp<4.0.0,>=3.8.3->langchain) (1.9.2)\n",
      "Requirement already satisfied: multidict<7.0,>=4.5 in c:\\users\\syed aziz ahmed\\appdata\\local\\programs\\python\\python310\\lib\\site-packages (from aiohttp<4.0.0,>=3.8.3->langchain) (6.0.4)\n",
      "Requirement already satisfied: frozenlist>=1.1.1 in c:\\users\\syed aziz ahmed\\appdata\\local\\programs\\python\\python310\\lib\\site-packages (from aiohttp<4.0.0,>=3.8.3->langchain) (1.4.0)\n",
      "Requirement already satisfied: marshmallow<4.0.0,>=3.18.0 in c:\\users\\syed aziz ahmed\\appdata\\local\\programs\\python\\python310\\lib\\site-packages (from dataclasses-json<0.6.0,>=0.5.7->langchain) (3.20.1)\n",
      "Requirement already satisfied: typing-inspect<1,>=0.4.0 in c:\\users\\syed aziz ahmed\\appdata\\local\\programs\\python\\python310\\lib\\site-packages (from dataclasses-json<0.6.0,>=0.5.7->langchain) (0.9.0)\n",
      "Requirement already satisfied: typing-extensions>=3.7.4.3 in c:\\users\\syed aziz ahmed\\appdata\\local\\programs\\python\\python310\\lib\\site-packages (from huggingface-hub>=0.4.0->sentence-transformers) (4.8.0)\n",
      "Requirement already satisfied: fsspec in c:\\users\\syed aziz ahmed\\appdata\\local\\programs\\python\\python310\\lib\\site-packages (from huggingface-hub>=0.4.0->sentence-transformers) (2023.6.0)\n",
      "Requirement already satisfied: filelock in c:\\users\\syed aziz ahmed\\appdata\\local\\programs\\python\\python310\\lib\\site-packages (from huggingface-hub>=0.4.0->sentence-transformers) (3.9.0)\n",
      "Requirement already satisfied: packaging>=20.9 in c:\\users\\syed aziz ahmed\\appdata\\local\\programs\\python\\python310\\lib\\site-packages (from huggingface-hub>=0.4.0->sentence-transformers) (21.3)\n",
      "Requirement already satisfied: annotated-types>=0.4.0 in c:\\users\\syed aziz ahmed\\appdata\\local\\programs\\python\\python310\\lib\\site-packages (from pydantic<3,>=1->langchain) (0.5.0)\n",
      "Requirement already satisfied: pydantic-core==2.10.1 in c:\\users\\syed aziz ahmed\\appdata\\local\\programs\\python\\python310\\lib\\site-packages (from pydantic<3,>=1->langchain) (2.10.1)\n",
      "Requirement already satisfied: idna<4,>=2.5 in c:\\users\\syed aziz ahmed\\appdata\\local\\programs\\python\\python310\\lib\\site-packages (from requests<3,>=2->langchain) (3.4)\n",
      "Requirement already satisfied: certifi>=2017.4.17 in c:\\users\\syed aziz ahmed\\appdata\\local\\programs\\python\\python310\\lib\\site-packages (from requests<3,>=2->langchain) (2023.5.7)\n",
      "Requirement already satisfied: urllib3<3,>=1.21.1 in c:\\users\\syed aziz ahmed\\appdata\\local\\programs\\python\\python310\\lib\\site-packages (from requests<3,>=2->langchain) (1.26.16)\n",
      "Requirement already satisfied: greenlet!=0.4.17 in c:\\users\\syed aziz ahmed\\appdata\\local\\programs\\python\\python310\\lib\\site-packages (from SQLAlchemy<3,>=1.4->langchain) (3.0.1)\n",
      "Requirement already satisfied: sympy in c:\\users\\syed aziz ahmed\\appdata\\local\\programs\\python\\python310\\lib\\site-packages (from torch>=1.6.0->sentence-transformers) (1.12)\n",
      "Requirement already satisfied: networkx in c:\\users\\syed aziz ahmed\\appdata\\local\\programs\\python\\python310\\lib\\site-packages (from torch>=1.6.0->sentence-transformers) (3.1)\n",
      "Requirement already satisfied: jinja2 in c:\\users\\syed aziz ahmed\\appdata\\local\\programs\\python\\python310\\lib\\site-packages (from torch>=1.6.0->sentence-transformers) (3.1.2)\n",
      "Requirement already satisfied: colorama in c:\\users\\syed aziz ahmed\\appdata\\local\\programs\\python\\python310\\lib\\site-packages (from tqdm->sentence-transformers) (0.4.6)\n",
      "Requirement already satisfied: regex!=2019.12.17 in c:\\users\\syed aziz ahmed\\appdata\\local\\programs\\python\\python310\\lib\\site-packages (from transformers<5.0.0,>=4.6.0->sentence-transformers) (2023.6.3)\n",
      "Requirement already satisfied: safetensors>=0.3.1 in c:\\users\\syed aziz ahmed\\appdata\\local\\programs\\python\\python310\\lib\\site-packages (from transformers<5.0.0,>=4.6.0->sentence-transformers) (0.3.1)\n",
      "Requirement already satisfied: tokenizers!=0.11.3,<0.14,>=0.11.1 in c:\\users\\syed aziz ahmed\\appdata\\local\\programs\\python\\python310\\lib\\site-packages (from transformers<5.0.0,>=4.6.0->sentence-transformers) (0.13.3)\n",
      "Requirement already satisfied: click in c:\\users\\syed aziz ahmed\\appdata\\local\\programs\\python\\python310\\lib\\site-packages (from nltk->sentence-transformers) (8.1.3)\n",
      "Requirement already satisfied: joblib in c:\\users\\syed aziz ahmed\\appdata\\local\\programs\\python\\python310\\lib\\site-packages (from nltk->sentence-transformers) (1.3.2)\n",
      "Requirement already satisfied: threadpoolctl>=2.0.0 in c:\\users\\syed aziz ahmed\\appdata\\local\\programs\\python\\python310\\lib\\site-packages (from scikit-learn->sentence-transformers) (3.1.0)\n",
      "Requirement already satisfied: pillow!=8.3.*,>=5.3.0 in c:\\users\\syed aziz ahmed\\appdata\\local\\programs\\python\\python310\\lib\\site-packages (from torchvision->sentence-transformers) (10.1.0)\n",
      "Requirement already satisfied: pyparsing!=3.0.5,>=2.0.2 in c:\\users\\syed aziz ahmed\\appdata\\local\\programs\\python\\python310\\lib\\site-packages (from packaging>=20.9->huggingface-hub>=0.4.0->sentence-transformers) (3.0.9)\n",
      "Requirement already satisfied: mypy-extensions>=0.3.0 in c:\\users\\syed aziz ahmed\\appdata\\local\\programs\\python\\python310\\lib\\site-packages (from typing-inspect<1,>=0.4.0->dataclasses-json<0.6.0,>=0.5.7->langchain) (1.0.0)\n",
      "Requirement already satisfied: MarkupSafe>=2.0 in c:\\users\\syed aziz ahmed\\appdata\\local\\programs\\python\\python310\\lib\\site-packages (from jinja2->torch>=1.6.0->sentence-transformers) (2.1.1)\n",
      "Requirement already satisfied: mpmath>=0.19 in c:\\users\\syed aziz ahmed\\appdata\\local\\programs\\python\\python310\\lib\\site-packages (from sympy->torch>=1.6.0->sentence-transformers) (1.3.0)\n"
     ]
    },
    {
     "name": "stderr",
     "output_type": "stream",
     "text": [
      "WARNING: There was an error checking the latest version of pip.\n"
     ]
    }
   ],
   "source": [
    "!pip install langchain faiss-cpu PyPDF2 sentence-transformers"
   ]
  },
  {
   "cell_type": "code",
   "execution_count": null,
   "id": "c1a3b56f-c0cb-4042-b2d4-785aaba3174c",
   "metadata": {},
   "outputs": [],
   "source": []
  }
 ],
 "metadata": {
  "kernelspec": {
   "display_name": "Python 3 (ipykernel)",
   "language": "python",
   "name": "python3"
  },
  "language_info": {
   "codemirror_mode": {
    "name": "ipython",
    "version": 3
   },
   "file_extension": ".py",
   "mimetype": "text/x-python",
   "name": "python",
   "nbconvert_exporter": "python",
   "pygments_lexer": "ipython3",
   "version": "3.10.4"
  }
 },
 "nbformat": 4,
 "nbformat_minor": 5
}
