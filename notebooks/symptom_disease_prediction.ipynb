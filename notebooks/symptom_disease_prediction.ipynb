{
 "cells": [
  {
   "cell_type": "code",
   "execution_count": 1,
   "id": "16ea8d71",
   "metadata": {
    "_cell_guid": "29d803ef-727b-40de-97bb-09c762a94335",
    "_uuid": "7e8f0ab3-c665-47d0-aa74-4d63d9b4d40a",
    "collapsed": false,
    "id": "16ea8d71",
    "jupyter": {
     "outputs_hidden": false
    },
    "papermill": {
     "duration": 0.128778,
     "end_time": "2023-09-20T12:05:52.217230",
     "exception": false,
     "start_time": "2023-09-20T12:05:52.088452",
     "status": "completed"
    },
    "tags": []
   },
   "outputs": [],
   "source": [
    "import joblib"
   ]
  },
  {
   "cell_type": "code",
   "execution_count": 2,
   "id": "7e88adfd-5332-4920-9300-6d72c7f971e9",
   "metadata": {
    "colab": {
     "base_uri": "https://localhost:8080/"
    },
    "id": "7e88adfd-5332-4920-9300-6d72c7f971e9",
    "outputId": "bd712290-a061-4b14-f74b-8de160f9076d"
   },
   "outputs": [
    {
     "name": "stdout",
     "output_type": "stream",
     "text": [
      "Collecting pandas_profiling\n",
      "  Downloading pandas_profiling-3.6.6-py2.py3-none-any.whl (324 kB)\n",
      "     -------------------------------------- 324.4/324.4 kB 6.7 MB/s eta 0:00:00\n",
      "Collecting ydata-profiling\n",
      "  Downloading ydata_profiling-4.6.4-py2.py3-none-any.whl (357 kB)\n",
      "     ------------------------------------- 357.8/357.8 kB 11.2 MB/s eta 0:00:00\n",
      "Requirement already satisfied: tqdm<5,>=4.48.2 in c:\\users\\syed aziz ahmed\\appdata\\local\\programs\\python\\python310\\lib\\site-packages (from ydata-profiling->pandas_profiling) (4.65.0)\n",
      "Requirement already satisfied: jinja2<3.2,>=2.11.1 in c:\\users\\syed aziz ahmed\\appdata\\local\\programs\\python\\python310\\lib\\site-packages (from ydata-profiling->pandas_profiling) (3.1.2)\n",
      "Collecting multimethod<2,>=1.4\n",
      "  Downloading multimethod-1.11-py3-none-any.whl (10 kB)\n",
      "Collecting visions[type_image_path]==0.7.5\n",
      "  Downloading visions-0.7.5-py3-none-any.whl (102 kB)\n",
      "     -------------------------------------- 102.7/102.7 kB 6.2 MB/s eta 0:00:00\n",
      "Collecting phik<0.13,>=0.11.1\n",
      "  Downloading phik-0.12.4-cp310-cp310-win_amd64.whl (666 kB)\n",
      "     -------------------------------------- 666.2/666.2 kB 7.0 MB/s eta 0:00:00\n",
      "Requirement already satisfied: pandas!=1.4.0,<3,>1.1 in c:\\users\\syed aziz ahmed\\appdata\\local\\programs\\python\\python310\\lib\\site-packages (from ydata-profiling->pandas_profiling) (1.5.2)\n",
      "Requirement already satisfied: PyYAML<6.1,>=5.0.0 in c:\\users\\syed aziz ahmed\\appdata\\local\\programs\\python\\python310\\lib\\site-packages (from ydata-profiling->pandas_profiling) (6.0.1)\n",
      "Requirement already satisfied: requests<3,>=2.24.0 in c:\\users\\syed aziz ahmed\\appdata\\local\\programs\\python\\python310\\lib\\site-packages (from ydata-profiling->pandas_profiling) (2.31.0)\n",
      "Requirement already satisfied: matplotlib<3.9,>=3.2 in c:\\users\\syed aziz ahmed\\appdata\\local\\programs\\python\\python310\\lib\\site-packages (from ydata-profiling->pandas_profiling) (3.5.2)\n",
      "Collecting htmlmin==0.1.12\n",
      "  Downloading htmlmin-0.1.12.tar.gz (19 kB)\n",
      "  Preparing metadata (setup.py): started\n",
      "  Preparing metadata (setup.py): finished with status 'done'\n",
      "Requirement already satisfied: numpy<1.26,>=1.16.0 in c:\\users\\syed aziz ahmed\\appdata\\local\\programs\\python\\python310\\lib\\site-packages (from ydata-profiling->pandas_profiling) (1.24.1)\n",
      "Requirement already satisfied: scipy<1.12,>=1.4.1 in c:\\users\\syed aziz ahmed\\appdata\\local\\programs\\python\\python310\\lib\\site-packages (from ydata-profiling->pandas_profiling) (1.9.3)\n",
      "Collecting statsmodels<1,>=0.13.2\n",
      "  Downloading statsmodels-0.14.1-cp310-cp310-win_amd64.whl (9.8 MB)\n",
      "     ---------------------------------------- 9.8/9.8 MB 7.2 MB/s eta 0:00:00\n",
      "Collecting dacite>=1.8\n",
      "  Downloading dacite-1.8.1-py3-none-any.whl (14 kB)\n",
      "Requirement already satisfied: pydantic>=2 in c:\\users\\syed aziz ahmed\\appdata\\local\\programs\\python\\python310\\lib\\site-packages (from ydata-profiling->pandas_profiling) (2.4.1)\n",
      "Requirement already satisfied: numba<0.59.0,>=0.56.0 in c:\\users\\syed aziz ahmed\\appdata\\local\\programs\\python\\python310\\lib\\site-packages (from ydata-profiling->pandas_profiling) (0.57.1)\n",
      "Collecting wordcloud>=1.9.1\n",
      "  Downloading wordcloud-1.9.3-cp310-cp310-win_amd64.whl (299 kB)\n",
      "     -------------------------------------- 300.0/300.0 kB 9.3 MB/s eta 0:00:00\n",
      "Collecting imagehash==4.3.1\n",
      "  Downloading ImageHash-4.3.1-py2.py3-none-any.whl (296 kB)\n",
      "     -------------------------------------- 296.5/296.5 kB 6.1 MB/s eta 0:00:00\n",
      "Collecting typeguard<5,>=4.1.2\n",
      "  Downloading typeguard-4.1.5-py3-none-any.whl (34 kB)\n",
      "Collecting seaborn<0.13,>=0.10.1\n",
      "  Using cached seaborn-0.12.2-py3-none-any.whl (293 kB)\n",
      "Requirement already satisfied: pillow in c:\\users\\syed aziz ahmed\\appdata\\local\\programs\\python\\python310\\lib\\site-packages (from imagehash==4.3.1->ydata-profiling->pandas_profiling) (10.1.0)\n",
      "Collecting PyWavelets\n",
      "  Downloading pywavelets-1.5.0-cp310-cp310-win_amd64.whl (4.3 MB)\n",
      "     ---------------------------------------- 4.3/4.3 MB 8.5 MB/s eta 0:00:00\n",
      "Requirement already satisfied: networkx>=2.4 in c:\\users\\syed aziz ahmed\\appdata\\local\\programs\\python\\python310\\lib\\site-packages (from visions[type_image_path]==0.7.5->ydata-profiling->pandas_profiling) (3.1)\n",
      "Requirement already satisfied: attrs>=19.3.0 in c:\\users\\syed aziz ahmed\\appdata\\local\\programs\\python\\python310\\lib\\site-packages (from visions[type_image_path]==0.7.5->ydata-profiling->pandas_profiling) (23.1.0)\n",
      "Collecting tangled-up-in-unicode>=0.0.4\n",
      "  Downloading tangled_up_in_unicode-0.2.0-py3-none-any.whl (4.7 MB)\n",
      "     ---------------------------------------- 4.7/4.7 MB 8.2 MB/s eta 0:00:00\n",
      "Requirement already satisfied: MarkupSafe>=2.0 in c:\\users\\syed aziz ahmed\\appdata\\local\\programs\\python\\python310\\lib\\site-packages (from jinja2<3.2,>=2.11.1->ydata-profiling->pandas_profiling) (2.1.1)\n",
      "Requirement already satisfied: pyparsing>=2.2.1 in c:\\users\\syed aziz ahmed\\appdata\\local\\programs\\python\\python310\\lib\\site-packages (from matplotlib<3.9,>=3.2->ydata-profiling->pandas_profiling) (3.0.9)\n",
      "Requirement already satisfied: cycler>=0.10 in c:\\users\\syed aziz ahmed\\appdata\\local\\programs\\python\\python310\\lib\\site-packages (from matplotlib<3.9,>=3.2->ydata-profiling->pandas_profiling) (0.11.0)\n",
      "Requirement already satisfied: packaging>=20.0 in c:\\users\\syed aziz ahmed\\appdata\\local\\programs\\python\\python310\\lib\\site-packages (from matplotlib<3.9,>=3.2->ydata-profiling->pandas_profiling) (23.2)\n",
      "Requirement already satisfied: python-dateutil>=2.7 in c:\\users\\syed aziz ahmed\\appdata\\local\\programs\\python\\python310\\lib\\site-packages (from matplotlib<3.9,>=3.2->ydata-profiling->pandas_profiling) (2.8.2)\n",
      "Requirement already satisfied: fonttools>=4.22.0 in c:\\users\\syed aziz ahmed\\appdata\\local\\programs\\python\\python310\\lib\\site-packages (from matplotlib<3.9,>=3.2->ydata-profiling->pandas_profiling) (4.33.3)\n",
      "Requirement already satisfied: kiwisolver>=1.0.1 in c:\\users\\syed aziz ahmed\\appdata\\local\\programs\\python\\python310\\lib\\site-packages (from matplotlib<3.9,>=3.2->ydata-profiling->pandas_profiling) (1.4.2)\n",
      "Requirement already satisfied: llvmlite<0.41,>=0.40.0dev0 in c:\\users\\syed aziz ahmed\\appdata\\local\\programs\\python\\python310\\lib\\site-packages (from numba<0.59.0,>=0.56.0->ydata-profiling->pandas_profiling) (0.40.1)\n",
      "Requirement already satisfied: pytz>=2020.1 in c:\\users\\syed aziz ahmed\\appdata\\local\\programs\\python\\python310\\lib\\site-packages (from pandas!=1.4.0,<3,>1.1->ydata-profiling->pandas_profiling) (2022.7)\n",
      "Requirement already satisfied: joblib>=0.14.1 in c:\\users\\syed aziz ahmed\\appdata\\local\\programs\\python\\python310\\lib\\site-packages (from phik<0.13,>=0.11.1->ydata-profiling->pandas_profiling) (1.3.2)\n",
      "Requirement already satisfied: pydantic-core==2.10.1 in c:\\users\\syed aziz ahmed\\appdata\\local\\programs\\python\\python310\\lib\\site-packages (from pydantic>=2->ydata-profiling->pandas_profiling) (2.10.1)\n",
      "Requirement already satisfied: annotated-types>=0.4.0 in c:\\users\\syed aziz ahmed\\appdata\\local\\programs\\python\\python310\\lib\\site-packages (from pydantic>=2->ydata-profiling->pandas_profiling) (0.5.0)\n",
      "Requirement already satisfied: typing-extensions>=4.6.1 in c:\\users\\syed aziz ahmed\\appdata\\local\\programs\\python\\python310\\lib\\site-packages (from pydantic>=2->ydata-profiling->pandas_profiling) (4.8.0)\n",
      "Requirement already satisfied: urllib3<3,>=1.21.1 in c:\\users\\syed aziz ahmed\\appdata\\local\\programs\\python\\python310\\lib\\site-packages (from requests<3,>=2.24.0->ydata-profiling->pandas_profiling) (1.26.16)\n",
      "Requirement already satisfied: charset-normalizer<4,>=2 in c:\\users\\syed aziz ahmed\\appdata\\local\\programs\\python\\python310\\lib\\site-packages (from requests<3,>=2.24.0->ydata-profiling->pandas_profiling) (3.1.0)\n",
      "Requirement already satisfied: idna<4,>=2.5 in c:\\users\\syed aziz ahmed\\appdata\\local\\programs\\python\\python310\\lib\\site-packages (from requests<3,>=2.24.0->ydata-profiling->pandas_profiling) (3.4)\n",
      "Requirement already satisfied: certifi>=2017.4.17 in c:\\users\\syed aziz ahmed\\appdata\\local\\programs\\python\\python310\\lib\\site-packages (from requests<3,>=2.24.0->ydata-profiling->pandas_profiling) (2023.5.7)\n",
      "Collecting patsy>=0.5.4\n",
      "  Downloading patsy-0.5.6-py2.py3-none-any.whl (233 kB)\n",
      "     -------------------------------------- 233.9/233.9 kB 4.8 MB/s eta 0:00:00\n",
      "Requirement already satisfied: colorama in c:\\users\\syed aziz ahmed\\appdata\\local\\programs\\python\\python310\\lib\\site-packages (from tqdm<5,>=4.48.2->ydata-profiling->pandas_profiling) (0.4.6)\n",
      "Requirement already satisfied: six in c:\\users\\syed aziz ahmed\\appdata\\local\\programs\\python\\python310\\lib\\site-packages (from patsy>=0.5.4->statsmodels<1,>=0.13.2->ydata-profiling->pandas_profiling) (1.16.0)\n",
      "Building wheels for collected packages: htmlmin\n",
      "  Building wheel for htmlmin (setup.py): started\n",
      "  Building wheel for htmlmin (setup.py): finished with status 'done'\n",
      "  Created wheel for htmlmin: filename=htmlmin-0.1.12-py3-none-any.whl size=27110 sha256=fc31525f2b4f8789f829d8c8f0a12aae46e1bb496087829c3c9fa3430d6b4cae\n",
      "  Stored in directory: c:\\users\\syed aziz ahmed\\appdata\\local\\pip\\cache\\wheels\\dd\\91\\29\\a79cecb328d01739e64017b6fb9a1ab9d8cb1853098ec5966d\n",
      "Successfully built htmlmin\n",
      "Installing collected packages: htmlmin, typeguard, tangled-up-in-unicode, PyWavelets, patsy, multimethod, dacite, imagehash, wordcloud, visions, statsmodels, seaborn, phik, ydata-profiling, pandas_profiling\n",
      "  Attempting uninstall: seaborn\n",
      "    Found existing installation: seaborn 0.13.0\n",
      "    Uninstalling seaborn-0.13.0:\n",
      "      Successfully uninstalled seaborn-0.13.0\n",
      "Successfully installed PyWavelets-1.5.0 dacite-1.8.1 htmlmin-0.1.12 imagehash-4.3.1 multimethod-1.11 pandas_profiling-3.6.6 patsy-0.5.6 phik-0.12.4 seaborn-0.12.2 statsmodels-0.14.1 tangled-up-in-unicode-0.2.0 typeguard-4.1.5 visions-0.7.5 wordcloud-1.9.3 ydata-profiling-4.6.4\n"
     ]
    },
    {
     "name": "stderr",
     "output_type": "stream",
     "text": [
      "WARNING: There was an error checking the latest version of pip.\n"
     ]
    }
   ],
   "source": [
    "!pip install pandas_profiling"
   ]
  },
  {
   "cell_type": "code",
   "execution_count": 3,
   "id": "c6b30e54",
   "metadata": {
    "_cell_guid": "769d7dfe-4275-42c0-b13a-b2e1a51323d3",
    "_uuid": "04ba2606-383c-47c1-8b3a-c2fec9ab7f90",
    "collapsed": false,
    "id": "c6b30e54",
    "jupyter": {
     "outputs_hidden": false
    },
    "papermill": {
     "duration": 3.723461,
     "end_time": "2023-09-20T12:05:55.955861",
     "exception": false,
     "start_time": "2023-09-20T12:05:52.232400",
     "status": "completed"
    },
    "tags": []
   },
   "outputs": [],
   "source": [
    "import pandas as pd\n",
    "import numpy as np\n",
    "import matplotlib.pyplot as plt\n",
    "from sklearn.model_selection import train_test_split,KFold,cross_val_score,GridSearchCV\n",
    "from sklearn.svm import SVC\n",
    "from sklearn.metrics import f1_score, accuracy_score, confusion_matrix,classification_report,precision_score,roc_curve\n",
    "import seaborn as sns\n",
    "from sklearn.utils import shuffle\n",
    "from sklearn.linear_model import LogisticRegression, Perceptron, RidgeClassifier, SGDClassifier\n",
    "from sklearn.ensemble import RandomForestClassifier, GradientBoostingClassifier, ExtraTreesClassifier\n",
    "from sklearn.ensemble import BaggingClassifier, AdaBoostClassifier, VotingClassifier\n",
    "from sklearn.neighbors import KNeighborsClassifier\n",
    "from sklearn.naive_bayes import GaussianNB\n",
    "from sklearn.tree import DecisionTreeClassifier\n",
    "from sklearn import metrics"
   ]
  },
  {
   "cell_type": "markdown",
   "id": "df856495",
   "metadata": {
    "_cell_guid": "e1480d23-615f-449d-899c-980c4745d98a",
    "_uuid": "e4080fe0-1a9b-474a-a75c-7edf10baded4",
    "id": "df856495",
    "papermill": {
     "duration": 0.01449,
     "end_time": "2023-09-20T12:05:55.985543",
     "exception": false,
     "start_time": "2023-09-20T12:05:55.971053",
     "status": "completed"
    },
    "tags": []
   },
   "source": [
    "**Read and shuffle the dataset**"
   ]
  },
  {
   "cell_type": "code",
   "execution_count": 4,
   "id": "f5e4ca58",
   "metadata": {
    "_cell_guid": "004332d9-692e-421f-91cc-5d0335a40ac9",
    "_uuid": "0b07b2a3-a895-48e5-9bc2-05c749e1a761",
    "colab": {
     "base_uri": "https://localhost:8080/",
     "height": 243
    },
    "collapsed": false,
    "id": "f5e4ca58",
    "jupyter": {
     "outputs_hidden": false
    },
    "outputId": "8a90b2db-f6ec-4083-cab1-2f714fda8ee7",
    "papermill": {
     "duration": 0.110402,
     "end_time": "2023-09-20T12:05:56.110659",
     "exception": false,
     "start_time": "2023-09-20T12:05:56.000257",
     "status": "completed"
    },
    "tags": []
   },
   "outputs": [
    {
     "data": {
      "text/html": [
       "<div>\n",
       "<style scoped>\n",
       "    .dataframe tbody tr th:only-of-type {\n",
       "        vertical-align: middle;\n",
       "    }\n",
       "\n",
       "    .dataframe tbody tr th {\n",
       "        vertical-align: top;\n",
       "    }\n",
       "\n",
       "    .dataframe thead th {\n",
       "        text-align: right;\n",
       "    }\n",
       "</style>\n",
       "<table border=\"1\" class=\"dataframe\">\n",
       "  <thead>\n",
       "    <tr style=\"text-align: right;\">\n",
       "      <th></th>\n",
       "      <th>Disease</th>\n",
       "      <th>Symptom_1</th>\n",
       "      <th>Symptom_2</th>\n",
       "      <th>Symptom_3</th>\n",
       "      <th>Symptom_4</th>\n",
       "      <th>Symptom_5</th>\n",
       "      <th>Symptom_6</th>\n",
       "      <th>Symptom_7</th>\n",
       "      <th>Symptom_8</th>\n",
       "      <th>Symptom_9</th>\n",
       "      <th>Symptom_10</th>\n",
       "      <th>Symptom_11</th>\n",
       "      <th>Symptom_12</th>\n",
       "      <th>Symptom_13</th>\n",
       "      <th>Symptom_14</th>\n",
       "      <th>Symptom_15</th>\n",
       "      <th>Symptom_16</th>\n",
       "      <th>Symptom_17</th>\n",
       "    </tr>\n",
       "  </thead>\n",
       "  <tbody>\n",
       "    <tr>\n",
       "      <th>373</th>\n",
       "      <td>Acne</td>\n",
       "      <td>skin_rash</td>\n",
       "      <td>blackheads</td>\n",
       "      <td>scurring</td>\n",
       "      <td>NaN</td>\n",
       "      <td>NaN</td>\n",
       "      <td>NaN</td>\n",
       "      <td>NaN</td>\n",
       "      <td>NaN</td>\n",
       "      <td>NaN</td>\n",
       "      <td>NaN</td>\n",
       "      <td>NaN</td>\n",
       "      <td>NaN</td>\n",
       "      <td>NaN</td>\n",
       "      <td>NaN</td>\n",
       "      <td>NaN</td>\n",
       "      <td>NaN</td>\n",
       "      <td>NaN</td>\n",
       "    </tr>\n",
       "    <tr>\n",
       "      <th>4916</th>\n",
       "      <td>Acne</td>\n",
       "      <td>skin_rash</td>\n",
       "      <td>pus_filled_pimples</td>\n",
       "      <td>blackheads</td>\n",
       "      <td>scurring</td>\n",
       "      <td>NaN</td>\n",
       "      <td>NaN</td>\n",
       "      <td>NaN</td>\n",
       "      <td>NaN</td>\n",
       "      <td>NaN</td>\n",
       "      <td>NaN</td>\n",
       "      <td>NaN</td>\n",
       "      <td>NaN</td>\n",
       "      <td>NaN</td>\n",
       "      <td>NaN</td>\n",
       "      <td>NaN</td>\n",
       "      <td>NaN</td>\n",
       "      <td>NaN</td>\n",
       "    </tr>\n",
       "    <tr>\n",
       "      <th>1550</th>\n",
       "      <td>Hyperthyroidism</td>\n",
       "      <td>fatigue</td>\n",
       "      <td>mood_swings</td>\n",
       "      <td>weight_loss</td>\n",
       "      <td>restlessness</td>\n",
       "      <td>sweating</td>\n",
       "      <td>diarrhoea</td>\n",
       "      <td>fast_heart_rate</td>\n",
       "      <td>excessive_hunger</td>\n",
       "      <td>muscle_weakness</td>\n",
       "      <td>irritability</td>\n",
       "      <td>abnormal_menstruation</td>\n",
       "      <td>NaN</td>\n",
       "      <td>NaN</td>\n",
       "      <td>NaN</td>\n",
       "      <td>NaN</td>\n",
       "      <td>NaN</td>\n",
       "      <td>NaN</td>\n",
       "    </tr>\n",
       "    <tr>\n",
       "      <th>3081</th>\n",
       "      <td>AIDS</td>\n",
       "      <td>muscle_wasting</td>\n",
       "      <td>patches_in_throat</td>\n",
       "      <td>high_fever</td>\n",
       "      <td>extra_marital_contacts</td>\n",
       "      <td>NaN</td>\n",
       "      <td>NaN</td>\n",
       "      <td>NaN</td>\n",
       "      <td>NaN</td>\n",
       "      <td>NaN</td>\n",
       "      <td>NaN</td>\n",
       "      <td>NaN</td>\n",
       "      <td>NaN</td>\n",
       "      <td>NaN</td>\n",
       "      <td>NaN</td>\n",
       "      <td>NaN</td>\n",
       "      <td>NaN</td>\n",
       "      <td>NaN</td>\n",
       "    </tr>\n",
       "    <tr>\n",
       "      <th>3857</th>\n",
       "      <td>Chronic cholestasis</td>\n",
       "      <td>itching</td>\n",
       "      <td>vomiting</td>\n",
       "      <td>yellowish_skin</td>\n",
       "      <td>nausea</td>\n",
       "      <td>loss_of_appetite</td>\n",
       "      <td>abdominal_pain</td>\n",
       "      <td>yellowing_of_eyes</td>\n",
       "      <td>NaN</td>\n",
       "      <td>NaN</td>\n",
       "      <td>NaN</td>\n",
       "      <td>NaN</td>\n",
       "      <td>NaN</td>\n",
       "      <td>NaN</td>\n",
       "      <td>NaN</td>\n",
       "      <td>NaN</td>\n",
       "      <td>NaN</td>\n",
       "      <td>NaN</td>\n",
       "    </tr>\n",
       "  </tbody>\n",
       "</table>\n",
       "</div>"
      ],
      "text/plain": [
       "                  Disease        Symptom_1            Symptom_2  \\\n",
       "373                  Acne        skin_rash           blackheads   \n",
       "4916                 Acne        skin_rash   pus_filled_pimples   \n",
       "1550      Hyperthyroidism          fatigue          mood_swings   \n",
       "3081                 AIDS   muscle_wasting    patches_in_throat   \n",
       "3857  Chronic cholestasis          itching             vomiting   \n",
       "\n",
       "            Symptom_3                Symptom_4          Symptom_5  \\\n",
       "373          scurring                      NaN                NaN   \n",
       "4916       blackheads                 scurring                NaN   \n",
       "1550      weight_loss             restlessness           sweating   \n",
       "3081       high_fever   extra_marital_contacts                NaN   \n",
       "3857   yellowish_skin                   nausea   loss_of_appetite   \n",
       "\n",
       "            Symptom_6           Symptom_7          Symptom_8  \\\n",
       "373               NaN                 NaN                NaN   \n",
       "4916              NaN                 NaN                NaN   \n",
       "1550        diarrhoea     fast_heart_rate   excessive_hunger   \n",
       "3081              NaN                 NaN                NaN   \n",
       "3857   abdominal_pain   yellowing_of_eyes                NaN   \n",
       "\n",
       "             Symptom_9     Symptom_10              Symptom_11 Symptom_12  \\\n",
       "373                NaN            NaN                     NaN        NaN   \n",
       "4916               NaN            NaN                     NaN        NaN   \n",
       "1550   muscle_weakness   irritability   abnormal_menstruation        NaN   \n",
       "3081               NaN            NaN                     NaN        NaN   \n",
       "3857               NaN            NaN                     NaN        NaN   \n",
       "\n",
       "     Symptom_13 Symptom_14 Symptom_15 Symptom_16 Symptom_17  \n",
       "373         NaN        NaN        NaN        NaN        NaN  \n",
       "4916        NaN        NaN        NaN        NaN        NaN  \n",
       "1550        NaN        NaN        NaN        NaN        NaN  \n",
       "3081        NaN        NaN        NaN        NaN        NaN  \n",
       "3857        NaN        NaN        NaN        NaN        NaN  "
      ]
     },
     "execution_count": 4,
     "metadata": {},
     "output_type": "execute_result"
    }
   ],
   "source": [
    "df = pd.read_csv('../data/dataset.csv')\n",
    "df = shuffle(df,random_state=42)\n",
    "df.head()"
   ]
  },
  {
   "cell_type": "markdown",
   "id": "0a8f155b",
   "metadata": {
    "_cell_guid": "47319647-a30b-4685-9ff6-4f55c37e34ea",
    "_uuid": "5af2a859-25dc-44d9-b69c-3641957ace0c",
    "id": "0a8f155b",
    "papermill": {
     "duration": 0.0145,
     "end_time": "2023-09-20T12:05:56.140278",
     "exception": false,
     "start_time": "2023-09-20T12:05:56.125778",
     "status": "completed"
    },
    "tags": []
   },
   "source": [
    "**Removing Hyphen from strings**"
   ]
  },
  {
   "cell_type": "code",
   "execution_count": 5,
   "id": "3b67149b",
   "metadata": {
    "_cell_guid": "9ce44588-29e9-4649-9b29-9f24abbcaad4",
    "_uuid": "119a2f4f-eb9c-4d73-8d45-6d2004a45323",
    "colab": {
     "base_uri": "https://localhost:8080/",
     "height": 295
    },
    "collapsed": false,
    "id": "3b67149b",
    "jupyter": {
     "outputs_hidden": false
    },
    "outputId": "1fd82a33-5de9-4249-978e-32066db7bdb7",
    "papermill": {
     "duration": 0.088231,
     "end_time": "2023-09-20T12:05:56.243958",
     "exception": false,
     "start_time": "2023-09-20T12:05:56.155727",
     "status": "completed"
    },
    "tags": []
   },
   "outputs": [
    {
     "data": {
      "text/html": [
       "<div>\n",
       "<style scoped>\n",
       "    .dataframe tbody tr th:only-of-type {\n",
       "        vertical-align: middle;\n",
       "    }\n",
       "\n",
       "    .dataframe tbody tr th {\n",
       "        vertical-align: top;\n",
       "    }\n",
       "\n",
       "    .dataframe thead th {\n",
       "        text-align: right;\n",
       "    }\n",
       "</style>\n",
       "<table border=\"1\" class=\"dataframe\">\n",
       "  <thead>\n",
       "    <tr style=\"text-align: right;\">\n",
       "      <th></th>\n",
       "      <th>Disease</th>\n",
       "      <th>Symptom_1</th>\n",
       "      <th>Symptom_2</th>\n",
       "      <th>Symptom_3</th>\n",
       "      <th>Symptom_4</th>\n",
       "      <th>Symptom_5</th>\n",
       "      <th>Symptom_6</th>\n",
       "      <th>Symptom_7</th>\n",
       "      <th>Symptom_8</th>\n",
       "      <th>Symptom_9</th>\n",
       "      <th>Symptom_10</th>\n",
       "      <th>Symptom_11</th>\n",
       "      <th>Symptom_12</th>\n",
       "      <th>Symptom_13</th>\n",
       "      <th>Symptom_14</th>\n",
       "      <th>Symptom_15</th>\n",
       "      <th>Symptom_16</th>\n",
       "      <th>Symptom_17</th>\n",
       "    </tr>\n",
       "  </thead>\n",
       "  <tbody>\n",
       "    <tr>\n",
       "      <th>373</th>\n",
       "      <td>Acne</td>\n",
       "      <td>skin rash</td>\n",
       "      <td>blackheads</td>\n",
       "      <td>scurring</td>\n",
       "      <td>NaN</td>\n",
       "      <td>NaN</td>\n",
       "      <td>NaN</td>\n",
       "      <td>NaN</td>\n",
       "      <td>NaN</td>\n",
       "      <td>NaN</td>\n",
       "      <td>NaN</td>\n",
       "      <td>NaN</td>\n",
       "      <td>NaN</td>\n",
       "      <td>NaN</td>\n",
       "      <td>NaN</td>\n",
       "      <td>NaN</td>\n",
       "      <td>NaN</td>\n",
       "      <td>NaN</td>\n",
       "    </tr>\n",
       "    <tr>\n",
       "      <th>4916</th>\n",
       "      <td>Acne</td>\n",
       "      <td>skin rash</td>\n",
       "      <td>pus filled pimples</td>\n",
       "      <td>blackheads</td>\n",
       "      <td>scurring</td>\n",
       "      <td>NaN</td>\n",
       "      <td>NaN</td>\n",
       "      <td>NaN</td>\n",
       "      <td>NaN</td>\n",
       "      <td>NaN</td>\n",
       "      <td>NaN</td>\n",
       "      <td>NaN</td>\n",
       "      <td>NaN</td>\n",
       "      <td>NaN</td>\n",
       "      <td>NaN</td>\n",
       "      <td>NaN</td>\n",
       "      <td>NaN</td>\n",
       "      <td>NaN</td>\n",
       "    </tr>\n",
       "    <tr>\n",
       "      <th>1550</th>\n",
       "      <td>Hyperthyroidism</td>\n",
       "      <td>fatigue</td>\n",
       "      <td>mood swings</td>\n",
       "      <td>weight loss</td>\n",
       "      <td>restlessness</td>\n",
       "      <td>sweating</td>\n",
       "      <td>diarrhoea</td>\n",
       "      <td>fast heart rate</td>\n",
       "      <td>excessive hunger</td>\n",
       "      <td>muscle weakness</td>\n",
       "      <td>irritability</td>\n",
       "      <td>abnormal menstruation</td>\n",
       "      <td>NaN</td>\n",
       "      <td>NaN</td>\n",
       "      <td>NaN</td>\n",
       "      <td>NaN</td>\n",
       "      <td>NaN</td>\n",
       "      <td>NaN</td>\n",
       "    </tr>\n",
       "    <tr>\n",
       "      <th>3081</th>\n",
       "      <td>AIDS</td>\n",
       "      <td>muscle wasting</td>\n",
       "      <td>patches in throat</td>\n",
       "      <td>high fever</td>\n",
       "      <td>extra marital contacts</td>\n",
       "      <td>NaN</td>\n",
       "      <td>NaN</td>\n",
       "      <td>NaN</td>\n",
       "      <td>NaN</td>\n",
       "      <td>NaN</td>\n",
       "      <td>NaN</td>\n",
       "      <td>NaN</td>\n",
       "      <td>NaN</td>\n",
       "      <td>NaN</td>\n",
       "      <td>NaN</td>\n",
       "      <td>NaN</td>\n",
       "      <td>NaN</td>\n",
       "      <td>NaN</td>\n",
       "    </tr>\n",
       "    <tr>\n",
       "      <th>3857</th>\n",
       "      <td>Chronic cholestasis</td>\n",
       "      <td>itching</td>\n",
       "      <td>vomiting</td>\n",
       "      <td>yellowish skin</td>\n",
       "      <td>nausea</td>\n",
       "      <td>loss of appetite</td>\n",
       "      <td>abdominal pain</td>\n",
       "      <td>yellowing of eyes</td>\n",
       "      <td>NaN</td>\n",
       "      <td>NaN</td>\n",
       "      <td>NaN</td>\n",
       "      <td>NaN</td>\n",
       "      <td>NaN</td>\n",
       "      <td>NaN</td>\n",
       "      <td>NaN</td>\n",
       "      <td>NaN</td>\n",
       "      <td>NaN</td>\n",
       "      <td>NaN</td>\n",
       "    </tr>\n",
       "  </tbody>\n",
       "</table>\n",
       "</div>"
      ],
      "text/plain": [
       "                  Disease        Symptom_1            Symptom_2  \\\n",
       "373                  Acne        skin rash           blackheads   \n",
       "4916                 Acne        skin rash   pus filled pimples   \n",
       "1550      Hyperthyroidism          fatigue          mood swings   \n",
       "3081                 AIDS   muscle wasting    patches in throat   \n",
       "3857  Chronic cholestasis          itching             vomiting   \n",
       "\n",
       "            Symptom_3                Symptom_4          Symptom_5  \\\n",
       "373          scurring                      NaN                NaN   \n",
       "4916       blackheads                 scurring                NaN   \n",
       "1550      weight loss             restlessness           sweating   \n",
       "3081       high fever   extra marital contacts                NaN   \n",
       "3857   yellowish skin                   nausea   loss of appetite   \n",
       "\n",
       "            Symptom_6           Symptom_7          Symptom_8  \\\n",
       "373               NaN                 NaN                NaN   \n",
       "4916              NaN                 NaN                NaN   \n",
       "1550        diarrhoea     fast heart rate   excessive hunger   \n",
       "3081              NaN                 NaN                NaN   \n",
       "3857   abdominal pain   yellowing of eyes                NaN   \n",
       "\n",
       "             Symptom_9     Symptom_10              Symptom_11 Symptom_12  \\\n",
       "373                NaN            NaN                     NaN        NaN   \n",
       "4916               NaN            NaN                     NaN        NaN   \n",
       "1550   muscle weakness   irritability   abnormal menstruation        NaN   \n",
       "3081               NaN            NaN                     NaN        NaN   \n",
       "3857               NaN            NaN                     NaN        NaN   \n",
       "\n",
       "     Symptom_13 Symptom_14 Symptom_15 Symptom_16 Symptom_17  \n",
       "373         NaN        NaN        NaN        NaN        NaN  \n",
       "4916        NaN        NaN        NaN        NaN        NaN  \n",
       "1550        NaN        NaN        NaN        NaN        NaN  \n",
       "3081        NaN        NaN        NaN        NaN        NaN  \n",
       "3857        NaN        NaN        NaN        NaN        NaN  "
      ]
     },
     "execution_count": 5,
     "metadata": {},
     "output_type": "execute_result"
    }
   ],
   "source": [
    "for col in df.columns:\n",
    "\n",
    "    df[col] = df[col].str.replace('_',' ')\n",
    "df.head()"
   ]
  },
  {
   "cell_type": "markdown",
   "id": "d55fed18",
   "metadata": {
    "_cell_guid": "78557c8d-a2a0-473d-9069-42b051975473",
    "_uuid": "c6115f4c-2ede-4c40-8aa0-43295c6d1c7c",
    "id": "d55fed18",
    "papermill": {
     "duration": 0.014912,
     "end_time": "2023-09-20T12:05:56.274316",
     "exception": false,
     "start_time": "2023-09-20T12:05:56.259404",
     "status": "completed"
    },
    "tags": []
   },
   "source": [
    "**Dataset characteristics**"
   ]
  },
  {
   "cell_type": "code",
   "execution_count": 6,
   "id": "fd6ba83c",
   "metadata": {
    "_cell_guid": "14a82079-f2b6-46ce-950b-405f2f70abb6",
    "_uuid": "beb6dbf9-da62-478a-9040-d8711b444711",
    "colab": {
     "base_uri": "https://localhost:8080/",
     "height": 212
    },
    "collapsed": false,
    "id": "fd6ba83c",
    "jupyter": {
     "outputs_hidden": false
    },
    "outputId": "16fa62d9-2768-4aba-8dd8-bafedd5b5aa5",
    "papermill": {
     "duration": 0.081636,
     "end_time": "2023-09-20T12:05:56.371053",
     "exception": false,
     "start_time": "2023-09-20T12:05:56.289417",
     "status": "completed"
    },
    "tags": []
   },
   "outputs": [
    {
     "data": {
      "text/html": [
       "<div>\n",
       "<style scoped>\n",
       "    .dataframe tbody tr th:only-of-type {\n",
       "        vertical-align: middle;\n",
       "    }\n",
       "\n",
       "    .dataframe tbody tr th {\n",
       "        vertical-align: top;\n",
       "    }\n",
       "\n",
       "    .dataframe thead th {\n",
       "        text-align: right;\n",
       "    }\n",
       "</style>\n",
       "<table border=\"1\" class=\"dataframe\">\n",
       "  <thead>\n",
       "    <tr style=\"text-align: right;\">\n",
       "      <th></th>\n",
       "      <th>Disease</th>\n",
       "      <th>Symptom_1</th>\n",
       "      <th>Symptom_2</th>\n",
       "      <th>Symptom_3</th>\n",
       "      <th>Symptom_4</th>\n",
       "      <th>Symptom_5</th>\n",
       "      <th>Symptom_6</th>\n",
       "      <th>Symptom_7</th>\n",
       "      <th>Symptom_8</th>\n",
       "      <th>Symptom_9</th>\n",
       "      <th>Symptom_10</th>\n",
       "      <th>Symptom_11</th>\n",
       "      <th>Symptom_12</th>\n",
       "      <th>Symptom_13</th>\n",
       "      <th>Symptom_14</th>\n",
       "      <th>Symptom_15</th>\n",
       "      <th>Symptom_16</th>\n",
       "      <th>Symptom_17</th>\n",
       "    </tr>\n",
       "  </thead>\n",
       "  <tbody>\n",
       "    <tr>\n",
       "      <th>count</th>\n",
       "      <td>4920</td>\n",
       "      <td>4920</td>\n",
       "      <td>4920</td>\n",
       "      <td>4920</td>\n",
       "      <td>4572</td>\n",
       "      <td>3714</td>\n",
       "      <td>2934</td>\n",
       "      <td>2268</td>\n",
       "      <td>1944</td>\n",
       "      <td>1692</td>\n",
       "      <td>1512</td>\n",
       "      <td>1194</td>\n",
       "      <td>744</td>\n",
       "      <td>504</td>\n",
       "      <td>306</td>\n",
       "      <td>240</td>\n",
       "      <td>192</td>\n",
       "      <td>72</td>\n",
       "    </tr>\n",
       "    <tr>\n",
       "      <th>unique</th>\n",
       "      <td>41</td>\n",
       "      <td>34</td>\n",
       "      <td>48</td>\n",
       "      <td>54</td>\n",
       "      <td>50</td>\n",
       "      <td>38</td>\n",
       "      <td>32</td>\n",
       "      <td>26</td>\n",
       "      <td>21</td>\n",
       "      <td>22</td>\n",
       "      <td>21</td>\n",
       "      <td>18</td>\n",
       "      <td>11</td>\n",
       "      <td>8</td>\n",
       "      <td>4</td>\n",
       "      <td>3</td>\n",
       "      <td>3</td>\n",
       "      <td>1</td>\n",
       "    </tr>\n",
       "    <tr>\n",
       "      <th>top</th>\n",
       "      <td>Acne</td>\n",
       "      <td>vomiting</td>\n",
       "      <td>vomiting</td>\n",
       "      <td>fatigue</td>\n",
       "      <td>high fever</td>\n",
       "      <td>headache</td>\n",
       "      <td>nausea</td>\n",
       "      <td>abdominal pain</td>\n",
       "      <td>abdominal pain</td>\n",
       "      <td>yellowing of eyes</td>\n",
       "      <td>yellowing of eyes</td>\n",
       "      <td>irritability</td>\n",
       "      <td>malaise</td>\n",
       "      <td>stomach bleeding</td>\n",
       "      <td>chest pain</td>\n",
       "      <td>chest pain</td>\n",
       "      <td>loss of smell</td>\n",
       "      <td>muscle pain</td>\n",
       "    </tr>\n",
       "    <tr>\n",
       "      <th>freq</th>\n",
       "      <td>120</td>\n",
       "      <td>822</td>\n",
       "      <td>870</td>\n",
       "      <td>726</td>\n",
       "      <td>378</td>\n",
       "      <td>348</td>\n",
       "      <td>390</td>\n",
       "      <td>264</td>\n",
       "      <td>276</td>\n",
       "      <td>228</td>\n",
       "      <td>198</td>\n",
       "      <td>120</td>\n",
       "      <td>126</td>\n",
       "      <td>72</td>\n",
       "      <td>96</td>\n",
       "      <td>144</td>\n",
       "      <td>72</td>\n",
       "      <td>72</td>\n",
       "    </tr>\n",
       "  </tbody>\n",
       "</table>\n",
       "</div>"
      ],
      "text/plain": [
       "       Disease  Symptom_1  Symptom_2 Symptom_3    Symptom_4  Symptom_5  \\\n",
       "count     4920       4920       4920      4920         4572       3714   \n",
       "unique      41         34         48        54           50         38   \n",
       "top       Acne   vomiting   vomiting   fatigue   high fever   headache   \n",
       "freq       120        822        870       726          378        348   \n",
       "\n",
       "       Symptom_6        Symptom_7        Symptom_8           Symptom_9  \\\n",
       "count       2934             2268             1944                1692   \n",
       "unique        32               26               21                  22   \n",
       "top       nausea   abdominal pain   abdominal pain   yellowing of eyes   \n",
       "freq         390              264              276                 228   \n",
       "\n",
       "                Symptom_10     Symptom_11 Symptom_12         Symptom_13  \\\n",
       "count                 1512           1194        744                504   \n",
       "unique                  21             18         11                  8   \n",
       "top      yellowing of eyes   irritability    malaise   stomach bleeding   \n",
       "freq                   198            120        126                 72   \n",
       "\n",
       "         Symptom_14   Symptom_15      Symptom_16    Symptom_17  \n",
       "count           306          240             192            72  \n",
       "unique            4            3               3             1  \n",
       "top      chest pain   chest pain   loss of smell   muscle pain  \n",
       "freq             96          144              72            72  "
      ]
     },
     "execution_count": 6,
     "metadata": {},
     "output_type": "execute_result"
    }
   ],
   "source": [
    "df.describe()"
   ]
  },
  {
   "cell_type": "markdown",
   "id": "d5b1958c",
   "metadata": {
    "_cell_guid": "56f93f7e-bd47-49d6-b0dc-bfed04a0697e",
    "_uuid": "ce5418f5-54ac-43c4-a7b3-311eda5688f8",
    "id": "d5b1958c",
    "papermill": {
     "duration": 0.015329,
     "end_time": "2023-09-20T12:05:56.402032",
     "exception": false,
     "start_time": "2023-09-20T12:05:56.386703",
     "status": "completed"
    },
    "tags": []
   },
   "source": [
    "**Check for null and NaN values**"
   ]
  },
  {
   "cell_type": "code",
   "execution_count": 7,
   "id": "0f5557c2",
   "metadata": {
    "_cell_guid": "93f88c82-f1df-490a-98a4-6ec5bb1d12b5",
    "_uuid": "03563103-4b47-410b-b357-26a8cc7dc49a",
    "colab": {
     "base_uri": "https://localhost:8080/"
    },
    "collapsed": false,
    "id": "0f5557c2",
    "jupyter": {
     "outputs_hidden": false
    },
    "outputId": "3b95db1b-0d2b-4c4a-a889-49c6845d0519",
    "papermill": {
     "duration": 0.047895,
     "end_time": "2023-09-20T12:05:56.466002",
     "exception": false,
     "start_time": "2023-09-20T12:05:56.418107",
     "status": "completed"
    },
    "tags": []
   },
   "outputs": [
    {
     "name": "stdout",
     "output_type": "stream",
     "text": [
      "            count\n",
      "Disease         0\n",
      "Symptom_1       0\n",
      "Symptom_2       0\n",
      "Symptom_3       0\n",
      "Symptom_4     348\n",
      "Symptom_5    1206\n",
      "Symptom_6    1986\n",
      "Symptom_7    2652\n",
      "Symptom_8    2976\n",
      "Symptom_9    3228\n",
      "Symptom_10   3408\n",
      "Symptom_11   3726\n",
      "Symptom_12   4176\n",
      "Symptom_13   4416\n",
      "Symptom_14   4614\n",
      "Symptom_15   4680\n",
      "Symptom_16   4728\n",
      "Symptom_17   4848\n"
     ]
    }
   ],
   "source": [
    "null_checker = df.apply(lambda x: sum(x.isnull())).to_frame(name='count')\n",
    "print(null_checker)"
   ]
  },
  {
   "cell_type": "code",
   "execution_count": 8,
   "id": "3efdd5af",
   "metadata": {
    "_cell_guid": "87008a7a-934f-41b8-8b28-34fdfa07519e",
    "_uuid": "2d7edf45-89a4-411e-80d1-57070ebf0968",
    "colab": {
     "base_uri": "https://localhost:8080/",
     "height": 542
    },
    "collapsed": false,
    "id": "3efdd5af",
    "jupyter": {
     "outputs_hidden": false
    },
    "outputId": "101fd82c-fd79-4fd7-940b-b4012462a931",
    "papermill": {
     "duration": 0.316508,
     "end_time": "2023-09-20T12:05:56.799298",
     "exception": false,
     "start_time": "2023-09-20T12:05:56.482790",
     "status": "completed"
    },
    "tags": []
   },
   "outputs": [
    {
     "data": {
      "image/png": "[encoded data removed]",
      "text/plain": [
       "<Figure size 1000x500 with 1 Axes>"
      ]
     },
     "metadata": {},
     "output_type": "display_data"
    }
   ],
   "source": [
    "plt.figure(figsize=(10,5))\n",
    "plt.plot(null_checker.index, null_checker['count'])\n",
    "plt.xticks(null_checker.index, null_checker.index, rotation=45,\n",
    "horizontalalignment='right')\n",
    "plt.title('Before removing Null values')\n",
    "plt.xlabel('column names')\n",
    "plt.margins(0.1)\n",
    "plt.show()"
   ]
  },
  {
   "cell_type": "markdown",
   "id": "1ec82213",
   "metadata": {
    "_cell_guid": "898e2022-4963-4147-a4dd-673bc6ba00a7",
    "_uuid": "77184a5d-7b3a-490c-bc17-4cce50f2a0d9",
    "id": "1ec82213",
    "papermill": {
     "duration": 0.025509,
     "end_time": "2023-09-20T12:05:56.850857",
     "exception": false,
     "start_time": "2023-09-20T12:05:56.825348",
     "status": "completed"
    },
    "tags": []
   },
   "source": [
    "**Remove the trailing space from the symptom columns**"
   ]
  },
  {
   "cell_type": "code",
   "execution_count": 9,
   "id": "WD5cFK-nnIzZ",
   "metadata": {
    "colab": {
     "base_uri": "https://localhost:8080/"
    },
    "id": "WD5cFK-nnIzZ",
    "outputId": "c2ffbb01-c522-4cc8-e0d9-8e3460677bda"
   },
   "outputs": [
    {
     "name": "stdout",
     "output_type": "stream",
     "text": [
      "                  Disease        Symptom_1            Symptom_2  \\\n",
      "373                  Acne        skin rash           blackheads   \n",
      "4916                 Acne        skin rash   pus filled pimples   \n",
      "1550      Hyperthyroidism          fatigue          mood swings   \n",
      "3081                 AIDS   muscle wasting    patches in throat   \n",
      "3857  Chronic cholestasis          itching             vomiting   \n",
      "...                   ...              ...                  ...   \n",
      "4426            Psoriasis        skin rash           joint pain   \n",
      "466   Peptic ulcer diseae         vomiting          indigestion   \n",
      "3092               Dengue        skin rash               chills   \n",
      "3772     Fungal infection          itching            skin rash   \n",
      "860         Drug Reaction          itching            skin rash   \n",
      "\n",
      "                  Symptom_3                Symptom_4              Symptom_5  \\\n",
      "373                scurring                      NaN                    NaN   \n",
      "4916             blackheads                 scurring                    NaN   \n",
      "1550            weight loss             restlessness               sweating   \n",
      "3081             high fever   extra marital contacts                    NaN   \n",
      "3857         yellowish skin                   nausea       loss of appetite   \n",
      "...                     ...                      ...                    ...   \n",
      "4426           skin peeling      silver like dusting   small dents in nails   \n",
      "466        loss of appetite           abdominal pain       internal itching   \n",
      "3092             joint pain                 vomiting                fatigue   \n",
      "3772   nodal skin eruptions      dischromic  patches                    NaN   \n",
      "860            stomach pain      burning micturition    spotting  urination   \n",
      "\n",
      "                Symptom_6  \n",
      "373                   NaN  \n",
      "4916                  NaN  \n",
      "1550            diarrhoea  \n",
      "3081                  NaN  \n",
      "3857       abdominal pain  \n",
      "...                   ...  \n",
      "4426   inflammatory nails  \n",
      "466                   NaN  \n",
      "3092           high fever  \n",
      "3772                  NaN  \n",
      "860                   NaN  \n",
      "\n",
      "[4920 rows x 7 columns]\n"
     ]
    }
   ],
   "source": [
    "\n",
    "columns_to_drop = ['Symptom_7', 'Symptom_8', 'Symptom_9', 'Symptom_10', 'Symptom_11',\n",
    "                    'Symptom_12', 'Symptom_13', 'Symptom_14', 'Symptom_15', 'Symptom_16', 'Symptom_17']\n",
    "\n",
    "df = df.drop(columns=columns_to_drop)\n",
    "\n",
    "# Display the updated DataFrame\n",
    "print(df)\n"
   ]
  },
  {
   "cell_type": "code",
   "execution_count": 10,
   "id": "2c248392",
   "metadata": {
    "_cell_guid": "ed5970ec-69a3-410c-8327-f0ca6697facf",
    "_uuid": "5b215ab2-e0a9-486a-bcc5-e25add893722",
    "colab": {
     "base_uri": "https://localhost:8080/",
     "height": 206
    },
    "collapsed": false,
    "id": "2c248392",
    "jupyter": {
     "outputs_hidden": false
    },
    "outputId": "cde7fbf2-da91-431b-87bb-495dbd58be6c",
    "papermill": {
     "duration": 0.085822,
     "end_time": "2023-09-20T12:05:56.963812",
     "exception": false,
     "start_time": "2023-09-20T12:05:56.877990",
     "status": "completed"
    },
    "tags": []
   },
   "outputs": [
    {
     "data": {
      "text/html": [
       "<div>\n",
       "<style scoped>\n",
       "    .dataframe tbody tr th:only-of-type {\n",
       "        vertical-align: middle;\n",
       "    }\n",
       "\n",
       "    .dataframe tbody tr th {\n",
       "        vertical-align: top;\n",
       "    }\n",
       "\n",
       "    .dataframe thead th {\n",
       "        text-align: right;\n",
       "    }\n",
       "</style>\n",
       "<table border=\"1\" class=\"dataframe\">\n",
       "  <thead>\n",
       "    <tr style=\"text-align: right;\">\n",
       "      <th></th>\n",
       "      <th>Disease</th>\n",
       "      <th>Symptom_1</th>\n",
       "      <th>Symptom_2</th>\n",
       "      <th>Symptom_3</th>\n",
       "      <th>Symptom_4</th>\n",
       "      <th>Symptom_5</th>\n",
       "      <th>Symptom_6</th>\n",
       "    </tr>\n",
       "  </thead>\n",
       "  <tbody>\n",
       "    <tr>\n",
       "      <th>0</th>\n",
       "      <td>Acne</td>\n",
       "      <td>skin rash</td>\n",
       "      <td>blackheads</td>\n",
       "      <td>scurring</td>\n",
       "      <td>NaN</td>\n",
       "      <td>NaN</td>\n",
       "      <td>NaN</td>\n",
       "    </tr>\n",
       "    <tr>\n",
       "      <th>1</th>\n",
       "      <td>Acne</td>\n",
       "      <td>skin rash</td>\n",
       "      <td>pus filled pimples</td>\n",
       "      <td>blackheads</td>\n",
       "      <td>scurring</td>\n",
       "      <td>NaN</td>\n",
       "      <td>NaN</td>\n",
       "    </tr>\n",
       "    <tr>\n",
       "      <th>2</th>\n",
       "      <td>Hyperthyroidism</td>\n",
       "      <td>fatigue</td>\n",
       "      <td>mood swings</td>\n",
       "      <td>weight loss</td>\n",
       "      <td>restlessness</td>\n",
       "      <td>sweating</td>\n",
       "      <td>diarrhoea</td>\n",
       "    </tr>\n",
       "    <tr>\n",
       "      <th>3</th>\n",
       "      <td>AIDS</td>\n",
       "      <td>muscle wasting</td>\n",
       "      <td>patches in throat</td>\n",
       "      <td>high fever</td>\n",
       "      <td>extra marital contacts</td>\n",
       "      <td>NaN</td>\n",
       "      <td>NaN</td>\n",
       "    </tr>\n",
       "    <tr>\n",
       "      <th>4</th>\n",
       "      <td>Chronic cholestasis</td>\n",
       "      <td>itching</td>\n",
       "      <td>vomiting</td>\n",
       "      <td>yellowish skin</td>\n",
       "      <td>nausea</td>\n",
       "      <td>loss of appetite</td>\n",
       "      <td>abdominal pain</td>\n",
       "    </tr>\n",
       "  </tbody>\n",
       "</table>\n",
       "</div>"
      ],
      "text/plain": [
       "               Disease       Symptom_1           Symptom_2       Symptom_3  \\\n",
       "0                 Acne       skin rash          blackheads        scurring   \n",
       "1                 Acne       skin rash  pus filled pimples      blackheads   \n",
       "2      Hyperthyroidism         fatigue         mood swings     weight loss   \n",
       "3                 AIDS  muscle wasting   patches in throat      high fever   \n",
       "4  Chronic cholestasis         itching            vomiting  yellowish skin   \n",
       "\n",
       "                Symptom_4         Symptom_5       Symptom_6  \n",
       "0                     NaN               NaN             NaN  \n",
       "1                scurring               NaN             NaN  \n",
       "2            restlessness          sweating       diarrhoea  \n",
       "3  extra marital contacts               NaN             NaN  \n",
       "4                  nausea  loss of appetite  abdominal pain  "
      ]
     },
     "execution_count": 10,
     "metadata": {},
     "output_type": "execute_result"
    }
   ],
   "source": [
    "cols = df.columns\n",
    "data = df[cols].values.flatten()\n",
    "\n",
    "s = pd.Series(data)\n",
    "s = s.str.strip()\n",
    "s = s.values.reshape(df.shape)\n",
    "\n",
    "df = pd.DataFrame(s, columns=df.columns)\n",
    "df.head()"
   ]
  },
  {
   "cell_type": "markdown",
   "id": "3d741510",
   "metadata": {
    "_cell_guid": "c0904d9c-c75f-4aa6-b68a-870657ee7159",
    "_uuid": "70f88710-e15c-4741-8dc7-7eab588d3009",
    "id": "3d741510",
    "papermill": {
     "duration": 0.016405,
     "end_time": "2023-09-20T12:05:56.997728",
     "exception": false,
     "start_time": "2023-09-20T12:05:56.981323",
     "status": "completed"
    },
    "tags": []
   },
   "source": [
    "**Fill the NaN values with zero**"
   ]
  },
  {
   "cell_type": "code",
   "execution_count": 11,
   "id": "3059c5c4",
   "metadata": {
    "_cell_guid": "a0808f69-e215-43de-a320-c3634185edf1",
    "_uuid": "6088daf3-98bb-499d-ba1c-bd572e744676",
    "colab": {
     "base_uri": "https://localhost:8080/",
     "height": 206
    },
    "collapsed": false,
    "id": "3059c5c4",
    "jupyter": {
     "outputs_hidden": false
    },
    "outputId": "acf17b03-ae65-4339-c0c2-030516dfdddb",
    "papermill": {
     "duration": 0.055807,
     "end_time": "2023-09-20T12:05:57.072700",
     "exception": false,
     "start_time": "2023-09-20T12:05:57.016893",
     "status": "completed"
    },
    "tags": []
   },
   "outputs": [
    {
     "data": {
      "text/html": [
       "<div>\n",
       "<style scoped>\n",
       "    .dataframe tbody tr th:only-of-type {\n",
       "        vertical-align: middle;\n",
       "    }\n",
       "\n",
       "    .dataframe tbody tr th {\n",
       "        vertical-align: top;\n",
       "    }\n",
       "\n",
       "    .dataframe thead th {\n",
       "        text-align: right;\n",
       "    }\n",
       "</style>\n",
       "<table border=\"1\" class=\"dataframe\">\n",
       "  <thead>\n",
       "    <tr style=\"text-align: right;\">\n",
       "      <th></th>\n",
       "      <th>Disease</th>\n",
       "      <th>Symptom_1</th>\n",
       "      <th>Symptom_2</th>\n",
       "      <th>Symptom_3</th>\n",
       "      <th>Symptom_4</th>\n",
       "      <th>Symptom_5</th>\n",
       "      <th>Symptom_6</th>\n",
       "    </tr>\n",
       "  </thead>\n",
       "  <tbody>\n",
       "    <tr>\n",
       "      <th>0</th>\n",
       "      <td>Acne</td>\n",
       "      <td>skin rash</td>\n",
       "      <td>blackheads</td>\n",
       "      <td>scurring</td>\n",
       "      <td>0</td>\n",
       "      <td>0</td>\n",
       "      <td>0</td>\n",
       "    </tr>\n",
       "    <tr>\n",
       "      <th>1</th>\n",
       "      <td>Acne</td>\n",
       "      <td>skin rash</td>\n",
       "      <td>pus filled pimples</td>\n",
       "      <td>blackheads</td>\n",
       "      <td>scurring</td>\n",
       "      <td>0</td>\n",
       "      <td>0</td>\n",
       "    </tr>\n",
       "    <tr>\n",
       "      <th>2</th>\n",
       "      <td>Hyperthyroidism</td>\n",
       "      <td>fatigue</td>\n",
       "      <td>mood swings</td>\n",
       "      <td>weight loss</td>\n",
       "      <td>restlessness</td>\n",
       "      <td>sweating</td>\n",
       "      <td>diarrhoea</td>\n",
       "    </tr>\n",
       "    <tr>\n",
       "      <th>3</th>\n",
       "      <td>AIDS</td>\n",
       "      <td>muscle wasting</td>\n",
       "      <td>patches in throat</td>\n",
       "      <td>high fever</td>\n",
       "      <td>extra marital contacts</td>\n",
       "      <td>0</td>\n",
       "      <td>0</td>\n",
       "    </tr>\n",
       "    <tr>\n",
       "      <th>4</th>\n",
       "      <td>Chronic cholestasis</td>\n",
       "      <td>itching</td>\n",
       "      <td>vomiting</td>\n",
       "      <td>yellowish skin</td>\n",
       "      <td>nausea</td>\n",
       "      <td>loss of appetite</td>\n",
       "      <td>abdominal pain</td>\n",
       "    </tr>\n",
       "  </tbody>\n",
       "</table>\n",
       "</div>"
      ],
      "text/plain": [
       "               Disease       Symptom_1           Symptom_2       Symptom_3  \\\n",
       "0                 Acne       skin rash          blackheads        scurring   \n",
       "1                 Acne       skin rash  pus filled pimples      blackheads   \n",
       "2      Hyperthyroidism         fatigue         mood swings     weight loss   \n",
       "3                 AIDS  muscle wasting   patches in throat      high fever   \n",
       "4  Chronic cholestasis         itching            vomiting  yellowish skin   \n",
       "\n",
       "                Symptom_4         Symptom_5       Symptom_6  \n",
       "0                       0                 0               0  \n",
       "1                scurring                 0               0  \n",
       "2            restlessness          sweating       diarrhoea  \n",
       "3  extra marital contacts                 0               0  \n",
       "4                  nausea  loss of appetite  abdominal pain  "
      ]
     },
     "execution_count": 11,
     "metadata": {},
     "output_type": "execute_result"
    }
   ],
   "source": [
    "df = df.fillna(0)\n",
    "df.head()"
   ]
  },
  {
   "cell_type": "markdown",
   "id": "7a185036",
   "metadata": {
    "_cell_guid": "f54aa1bc-3a83-4c82-80df-1522dba1993f",
    "_uuid": "93cdd318-0a70-478c-9f07-5cddcdc61dc5",
    "id": "7a185036",
    "papermill": {
     "duration": 0.017346,
     "end_time": "2023-09-20T12:05:57.108458",
     "exception": false,
     "start_time": "2023-09-20T12:05:57.091112",
     "status": "completed"
    },
    "tags": []
   },
   "source": [
    "**Symptom severity rank**"
   ]
  },
  {
   "cell_type": "code",
   "execution_count": 13,
   "id": "065418d3",
   "metadata": {
    "_cell_guid": "1d432f5c-f8fa-4925-9fca-7be39c07c4d9",
    "_uuid": "d76fdc32-363a-4347-af14-924479214b10",
    "colab": {
     "base_uri": "https://localhost:8080/",
     "height": 423
    },
    "collapsed": false,
    "id": "065418d3",
    "jupyter": {
     "outputs_hidden": false
    },
    "outputId": "658933b7-1e32-457c-d485-1511d90e7771",
    "papermill": {
     "duration": 0.046953,
     "end_time": "2023-09-20T12:05:57.173496",
     "exception": false,
     "start_time": "2023-09-20T12:05:57.126543",
     "status": "completed"
    },
    "tags": []
   },
   "outputs": [
    {
     "data": {
      "text/html": [
       "<div>\n",
       "<style scoped>\n",
       "    .dataframe tbody tr th:only-of-type {\n",
       "        vertical-align: middle;\n",
       "    }\n",
       "\n",
       "    .dataframe tbody tr th {\n",
       "        vertical-align: top;\n",
       "    }\n",
       "\n",
       "    .dataframe thead th {\n",
       "        text-align: right;\n",
       "    }\n",
       "</style>\n",
       "<table border=\"1\" class=\"dataframe\">\n",
       "  <thead>\n",
       "    <tr style=\"text-align: right;\">\n",
       "      <th></th>\n",
       "      <th>Symptom</th>\n",
       "      <th>weight</th>\n",
       "    </tr>\n",
       "  </thead>\n",
       "  <tbody>\n",
       "    <tr>\n",
       "      <th>0</th>\n",
       "      <td>itching</td>\n",
       "      <td>1</td>\n",
       "    </tr>\n",
       "    <tr>\n",
       "      <th>1</th>\n",
       "      <td>skin rash</td>\n",
       "      <td>3</td>\n",
       "    </tr>\n",
       "    <tr>\n",
       "      <th>2</th>\n",
       "      <td>nodal skin eruptions</td>\n",
       "      <td>4</td>\n",
       "    </tr>\n",
       "    <tr>\n",
       "      <th>3</th>\n",
       "      <td>continuous sneezing</td>\n",
       "      <td>4</td>\n",
       "    </tr>\n",
       "    <tr>\n",
       "      <th>4</th>\n",
       "      <td>shivering</td>\n",
       "      <td>5</td>\n",
       "    </tr>\n",
       "    <tr>\n",
       "      <th>...</th>\n",
       "      <td>...</td>\n",
       "      <td>...</td>\n",
       "    </tr>\n",
       "    <tr>\n",
       "      <th>128</th>\n",
       "      <td>inflammatory nails</td>\n",
       "      <td>2</td>\n",
       "    </tr>\n",
       "    <tr>\n",
       "      <th>129</th>\n",
       "      <td>blister</td>\n",
       "      <td>4</td>\n",
       "    </tr>\n",
       "    <tr>\n",
       "      <th>130</th>\n",
       "      <td>red sore around nose</td>\n",
       "      <td>2</td>\n",
       "    </tr>\n",
       "    <tr>\n",
       "      <th>131</th>\n",
       "      <td>yellow crust ooze</td>\n",
       "      <td>3</td>\n",
       "    </tr>\n",
       "    <tr>\n",
       "      <th>132</th>\n",
       "      <td>prognosis</td>\n",
       "      <td>5</td>\n",
       "    </tr>\n",
       "  </tbody>\n",
       "</table>\n",
       "<p>133 rows × 2 columns</p>\n",
       "</div>"
      ],
      "text/plain": [
       "                  Symptom  weight\n",
       "0                 itching       1\n",
       "1               skin rash       3\n",
       "2    nodal skin eruptions       4\n",
       "3     continuous sneezing       4\n",
       "4               shivering       5\n",
       "..                    ...     ...\n",
       "128    inflammatory nails       2\n",
       "129               blister       4\n",
       "130  red sore around nose       2\n",
       "131     yellow crust ooze       3\n",
       "132             prognosis       5\n",
       "\n",
       "[133 rows x 2 columns]"
      ]
     },
     "execution_count": 13,
     "metadata": {},
     "output_type": "execute_result"
    }
   ],
   "source": [
    "df1 = pd.read_csv('../data/Symptom-severity.csv')\n",
    "df1['Symptom'] = df1['Symptom'].str.replace('_',' ')\n",
    "df1"
   ]
  },
  {
   "cell_type": "markdown",
   "id": "0ab9b1f7",
   "metadata": {
    "_cell_guid": "6714dd53-5370-437e-b310-c1fab54f6ebc",
    "_uuid": "6904ea6e-ce4c-4f0b-9191-51102483967f",
    "id": "0ab9b1f7",
    "papermill": {
     "duration": 0.01703,
     "end_time": "2023-09-20T12:05:57.212527",
     "exception": false,
     "start_time": "2023-09-20T12:05:57.195497",
     "status": "completed"
    },
    "tags": []
   },
   "source": [
    "**Get overall list of symptoms**"
   ]
  },
  {
   "cell_type": "code",
   "execution_count": 14,
   "id": "d0bbe2fa",
   "metadata": {
    "_cell_guid": "b03c9c89-9ab5-4d6d-bae1-91f7a0646a71",
    "_uuid": "e1485d20-86c0-4b22-8ae1-63af1b9cd6d3",
    "colab": {
     "base_uri": "https://localhost:8080/"
    },
    "collapsed": false,
    "id": "d0bbe2fa",
    "jupyter": {
     "outputs_hidden": false
    },
    "outputId": "93903ecf-934c-4084-cfea-72cc9c221011",
    "papermill": {
     "duration": 0.034651,
     "end_time": "2023-09-20T12:05:57.274807",
     "exception": false,
     "start_time": "2023-09-20T12:05:57.240156",
     "status": "completed"
    },
    "tags": []
   },
   "outputs": [
    {
     "data": {
      "text/plain": [
       "array(['itching', 'skin rash', 'nodal skin eruptions',\n",
       "       'continuous sneezing', 'shivering', 'chills', 'joint pain',\n",
       "       'stomach pain', 'acidity', 'ulcers on tongue', 'muscle wasting',\n",
       "       'vomiting', 'burning micturition', 'spotting urination', 'fatigue',\n",
       "       'weight gain', 'anxiety', 'cold hands and feets', 'mood swings',\n",
       "       'weight loss', 'restlessness', 'lethargy', 'patches in throat',\n",
       "       'irregular sugar level', 'cough', 'high fever', 'sunken eyes',\n",
       "       'breathlessness', 'sweating', 'dehydration', 'indigestion',\n",
       "       'headache', 'yellowish skin', 'dark urine', 'nausea',\n",
       "       'loss of appetite', 'pain behind the eyes', 'back pain',\n",
       "       'constipation', 'abdominal pain', 'diarrhoea', 'mild fever',\n",
       "       'yellow urine', 'yellowing of eyes', 'acute liver failure',\n",
       "       'fluid overload', 'swelling of stomach', 'swelled lymph nodes',\n",
       "       'malaise', 'blurred and distorted vision', 'phlegm',\n",
       "       'throat irritation', 'redness of eyes', 'sinus pressure',\n",
       "       'runny nose', 'congestion', 'chest pain', 'weakness in limbs',\n",
       "       'fast heart rate', 'pain during bowel movements',\n",
       "       'pain in anal region', 'bloody stool', 'irritation in anus',\n",
       "       'neck pain', 'dizziness', 'cramps', 'bruising', 'obesity',\n",
       "       'swollen legs', 'swollen blood vessels', 'puffy face and eyes',\n",
       "       'enlarged thyroid', 'brittle nails', 'swollen extremeties',\n",
       "       'excessive hunger', 'extra marital contacts',\n",
       "       'drying and tingling lips', 'slurred speech', 'knee pain',\n",
       "       'hip joint pain', 'muscle weakness', 'stiff neck',\n",
       "       'swelling joints', 'movement stiffness', 'spinning movements',\n",
       "       'loss of balance', 'unsteadiness', 'weakness of one body side',\n",
       "       'loss of smell', 'bladder discomfort', 'foul smell ofurine',\n",
       "       'continuous feel of urine', 'passage of gases', 'internal itching',\n",
       "       'toxic look (typhos)', 'depression', 'irritability', 'muscle pain',\n",
       "       'altered sensorium', 'red spots over body', 'belly pain',\n",
       "       'abnormal menstruation', 'dischromic patches',\n",
       "       'watering from eyes', 'increased appetite', 'polyuria',\n",
       "       'family history', 'mucoid sputum', 'rusty sputum',\n",
       "       'lack of concentration', 'visual disturbances',\n",
       "       'receiving blood transfusion', 'receiving unsterile injections',\n",
       "       'coma', 'stomach bleeding', 'distention of abdomen',\n",
       "       'history of alcohol consumption', 'blood in sputum',\n",
       "       'prominent veins on calf', 'palpitations', 'painful walking',\n",
       "       'pus filled pimples', 'blackheads', 'scurring', 'skin peeling',\n",
       "       'silver like dusting', 'small dents in nails',\n",
       "       'inflammatory nails', 'blister', 'red sore around nose',\n",
       "       'yellow crust ooze', 'prognosis'], dtype=object)"
      ]
     },
     "execution_count": 14,
     "metadata": {},
     "output_type": "execute_result"
    }
   ],
   "source": [
    "df1['Symptom'].unique()"
   ]
  },
  {
   "cell_type": "markdown",
   "id": "3ca8bda2",
   "metadata": {
    "_cell_guid": "61d79aed-3a85-4946-bddf-292d75d717f0",
    "_uuid": "7008e41b-15ea-4a00-bb83-d034d1ffe609",
    "id": "3ca8bda2",
    "papermill": {
     "duration": 0.018564,
     "end_time": "2023-09-20T12:05:57.314585",
     "exception": false,
     "start_time": "2023-09-20T12:05:57.296021",
     "status": "completed"
    },
    "tags": []
   },
   "source": [
    "**Encode symptoms in the data with the symptom rank**"
   ]
  },
  {
   "cell_type": "code",
   "execution_count": 15,
   "id": "c037e937",
   "metadata": {
    "_cell_guid": "8eff5e73-f5db-4e55-8e22-657f48e402e9",
    "_uuid": "611e9eaa-ffdb-44a3-8593-578fc62d05e6",
    "colab": {
     "base_uri": "https://localhost:8080/",
     "height": 206
    },
    "collapsed": false,
    "id": "c037e937",
    "jupyter": {
     "outputs_hidden": false
    },
    "outputId": "f58c6e04-8ed8-4407-b8f4-46891944785d",
    "papermill": {
     "duration": 4.347097,
     "end_time": "2023-09-20T12:06:01.679143",
     "exception": false,
     "start_time": "2023-09-20T12:05:57.332046",
     "status": "completed"
    },
    "tags": []
   },
   "outputs": [
    {
     "data": {
      "text/html": [
       "<div>\n",
       "<style scoped>\n",
       "    .dataframe tbody tr th:only-of-type {\n",
       "        vertical-align: middle;\n",
       "    }\n",
       "\n",
       "    .dataframe tbody tr th {\n",
       "        vertical-align: top;\n",
       "    }\n",
       "\n",
       "    .dataframe thead th {\n",
       "        text-align: right;\n",
       "    }\n",
       "</style>\n",
       "<table border=\"1\" class=\"dataframe\">\n",
       "  <thead>\n",
       "    <tr style=\"text-align: right;\">\n",
       "      <th></th>\n",
       "      <th>Disease</th>\n",
       "      <th>Symptom_1</th>\n",
       "      <th>Symptom_2</th>\n",
       "      <th>Symptom_3</th>\n",
       "      <th>Symptom_4</th>\n",
       "      <th>Symptom_5</th>\n",
       "      <th>Symptom_6</th>\n",
       "    </tr>\n",
       "  </thead>\n",
       "  <tbody>\n",
       "    <tr>\n",
       "      <th>0</th>\n",
       "      <td>Acne</td>\n",
       "      <td>3</td>\n",
       "      <td>2</td>\n",
       "      <td>2</td>\n",
       "      <td>0</td>\n",
       "      <td>0</td>\n",
       "      <td>0</td>\n",
       "    </tr>\n",
       "    <tr>\n",
       "      <th>1</th>\n",
       "      <td>Acne</td>\n",
       "      <td>3</td>\n",
       "      <td>2</td>\n",
       "      <td>2</td>\n",
       "      <td>2</td>\n",
       "      <td>0</td>\n",
       "      <td>0</td>\n",
       "    </tr>\n",
       "    <tr>\n",
       "      <th>2</th>\n",
       "      <td>Hyperthyroidism</td>\n",
       "      <td>4</td>\n",
       "      <td>3</td>\n",
       "      <td>3</td>\n",
       "      <td>5</td>\n",
       "      <td>3</td>\n",
       "      <td>6</td>\n",
       "    </tr>\n",
       "    <tr>\n",
       "      <th>3</th>\n",
       "      <td>AIDS</td>\n",
       "      <td>3</td>\n",
       "      <td>6</td>\n",
       "      <td>7</td>\n",
       "      <td>5</td>\n",
       "      <td>0</td>\n",
       "      <td>0</td>\n",
       "    </tr>\n",
       "    <tr>\n",
       "      <th>4</th>\n",
       "      <td>Chronic cholestasis</td>\n",
       "      <td>1</td>\n",
       "      <td>5</td>\n",
       "      <td>3</td>\n",
       "      <td>5</td>\n",
       "      <td>4</td>\n",
       "      <td>4</td>\n",
       "    </tr>\n",
       "  </tbody>\n",
       "</table>\n",
       "</div>"
      ],
      "text/plain": [
       "               Disease Symptom_1 Symptom_2 Symptom_3 Symptom_4 Symptom_5  \\\n",
       "0                 Acne         3         2         2         0         0   \n",
       "1                 Acne         3         2         2         2         0   \n",
       "2      Hyperthyroidism         4         3         3         5         3   \n",
       "3                 AIDS         3         6         7         5         0   \n",
       "4  Chronic cholestasis         1         5         3         5         4   \n",
       "\n",
       "  Symptom_6  \n",
       "0         0  \n",
       "1         0  \n",
       "2         6  \n",
       "3         0  \n",
       "4         4  "
      ]
     },
     "execution_count": 15,
     "metadata": {},
     "output_type": "execute_result"
    }
   ],
   "source": [
    "vals = df.values\n",
    "symptoms = df1['Symptom'].unique()\n",
    "\n",
    "for i in range(len(symptoms)):\n",
    "    vals[vals == symptoms[i]] = df1[df1['Symptom'] == symptoms[i]]['weight'].values[0]\n",
    "\n",
    "d = pd.DataFrame(vals, columns=cols)\n",
    "d.head()"
   ]
  },
  {
   "cell_type": "markdown",
   "id": "ee16b518",
   "metadata": {
    "_cell_guid": "6974f7cb-a2b5-42af-a97f-d2e66b247433",
    "_uuid": "ebc80d1f-3893-427e-9dce-239e9eb417d7",
    "id": "ee16b518",
    "papermill": {
     "duration": 0.017097,
     "end_time": "2023-09-20T12:06:01.714784",
     "exception": false,
     "start_time": "2023-09-20T12:06:01.697687",
     "status": "completed"
    },
    "tags": []
   },
   "source": [
    "**Assign symptoms with no rank to zero**"
   ]
  },
  {
   "cell_type": "code",
   "execution_count": 16,
   "id": "92ead5eb",
   "metadata": {
    "_cell_guid": "e2302539-6fa6-4c17-9a62-08c78fff8c3b",
    "_uuid": "9cc19600-63d5-4dd5-885c-35d8a33111fa",
    "colab": {
     "base_uri": "https://localhost:8080/",
     "height": 363
    },
    "collapsed": false,
    "id": "92ead5eb",
    "jupyter": {
     "outputs_hidden": false
    },
    "outputId": "9b85eeeb-5e7c-4c81-b610-35e9fc6c6a33",
    "papermill": {
     "duration": 0.160436,
     "end_time": "2023-09-20T12:06:01.893886",
     "exception": false,
     "start_time": "2023-09-20T12:06:01.733450",
     "status": "completed"
    },
    "tags": []
   },
   "outputs": [
    {
     "data": {
      "text/html": [
       "<div>\n",
       "<style scoped>\n",
       "    .dataframe tbody tr th:only-of-type {\n",
       "        vertical-align: middle;\n",
       "    }\n",
       "\n",
       "    .dataframe tbody tr th {\n",
       "        vertical-align: top;\n",
       "    }\n",
       "\n",
       "    .dataframe thead th {\n",
       "        text-align: right;\n",
       "    }\n",
       "</style>\n",
       "<table border=\"1\" class=\"dataframe\">\n",
       "  <thead>\n",
       "    <tr style=\"text-align: right;\">\n",
       "      <th></th>\n",
       "      <th>Disease</th>\n",
       "      <th>Symptom_1</th>\n",
       "      <th>Symptom_2</th>\n",
       "      <th>Symptom_3</th>\n",
       "      <th>Symptom_4</th>\n",
       "      <th>Symptom_5</th>\n",
       "      <th>Symptom_6</th>\n",
       "    </tr>\n",
       "  </thead>\n",
       "  <tbody>\n",
       "    <tr>\n",
       "      <th>0</th>\n",
       "      <td>Acne</td>\n",
       "      <td>3</td>\n",
       "      <td>2</td>\n",
       "      <td>2</td>\n",
       "      <td>0</td>\n",
       "      <td>0</td>\n",
       "      <td>0</td>\n",
       "    </tr>\n",
       "    <tr>\n",
       "      <th>1</th>\n",
       "      <td>Acne</td>\n",
       "      <td>3</td>\n",
       "      <td>2</td>\n",
       "      <td>2</td>\n",
       "      <td>2</td>\n",
       "      <td>0</td>\n",
       "      <td>0</td>\n",
       "    </tr>\n",
       "    <tr>\n",
       "      <th>2</th>\n",
       "      <td>Hyperthyroidism</td>\n",
       "      <td>4</td>\n",
       "      <td>3</td>\n",
       "      <td>3</td>\n",
       "      <td>5</td>\n",
       "      <td>3</td>\n",
       "      <td>6</td>\n",
       "    </tr>\n",
       "    <tr>\n",
       "      <th>3</th>\n",
       "      <td>AIDS</td>\n",
       "      <td>3</td>\n",
       "      <td>6</td>\n",
       "      <td>7</td>\n",
       "      <td>5</td>\n",
       "      <td>0</td>\n",
       "      <td>0</td>\n",
       "    </tr>\n",
       "    <tr>\n",
       "      <th>4</th>\n",
       "      <td>Chronic cholestasis</td>\n",
       "      <td>1</td>\n",
       "      <td>5</td>\n",
       "      <td>3</td>\n",
       "      <td>5</td>\n",
       "      <td>4</td>\n",
       "      <td>4</td>\n",
       "    </tr>\n",
       "    <tr>\n",
       "      <th>5</th>\n",
       "      <td>Hypertension</td>\n",
       "      <td>3</td>\n",
       "      <td>7</td>\n",
       "      <td>4</td>\n",
       "      <td>4</td>\n",
       "      <td>3</td>\n",
       "      <td>0</td>\n",
       "    </tr>\n",
       "    <tr>\n",
       "      <th>6</th>\n",
       "      <td>Hypoglycemia</td>\n",
       "      <td>5</td>\n",
       "      <td>4</td>\n",
       "      <td>4</td>\n",
       "      <td>3</td>\n",
       "      <td>3</td>\n",
       "      <td>5</td>\n",
       "    </tr>\n",
       "    <tr>\n",
       "      <th>7</th>\n",
       "      <td>Arthritis</td>\n",
       "      <td>2</td>\n",
       "      <td>4</td>\n",
       "      <td>5</td>\n",
       "      <td>2</td>\n",
       "      <td>0</td>\n",
       "      <td>0</td>\n",
       "    </tr>\n",
       "    <tr>\n",
       "      <th>8</th>\n",
       "      <td>Hepatitis B</td>\n",
       "      <td>1</td>\n",
       "      <td>4</td>\n",
       "      <td>2</td>\n",
       "      <td>3</td>\n",
       "      <td>4</td>\n",
       "      <td>4</td>\n",
       "    </tr>\n",
       "    <tr>\n",
       "      <th>9</th>\n",
       "      <td>Migraine</td>\n",
       "      <td>3</td>\n",
       "      <td>5</td>\n",
       "      <td>3</td>\n",
       "      <td>5</td>\n",
       "      <td>4</td>\n",
       "      <td>4</td>\n",
       "    </tr>\n",
       "  </tbody>\n",
       "</table>\n",
       "</div>"
      ],
      "text/plain": [
       "               Disease  Symptom_1  Symptom_2  Symptom_3  Symptom_4  Symptom_5  \\\n",
       "0                 Acne          3          2          2          0          0   \n",
       "1                 Acne          3          2          2          2          0   \n",
       "2      Hyperthyroidism          4          3          3          5          3   \n",
       "3                 AIDS          3          6          7          5          0   \n",
       "4  Chronic cholestasis          1          5          3          5          4   \n",
       "5         Hypertension          3          7          4          4          3   \n",
       "6         Hypoglycemia          5          4          4          3          3   \n",
       "7            Arthritis          2          4          5          2          0   \n",
       "8          Hepatitis B          1          4          2          3          4   \n",
       "9             Migraine          3          5          3          5          4   \n",
       "\n",
       "   Symptom_6  \n",
       "0          0  \n",
       "1          0  \n",
       "2          6  \n",
       "3          0  \n",
       "4          4  \n",
       "5          0  \n",
       "6          5  \n",
       "7          0  \n",
       "8          4  \n",
       "9          4  "
      ]
     },
     "execution_count": 16,
     "metadata": {},
     "output_type": "execute_result"
    }
   ],
   "source": [
    "d = d.replace('dischromic  patches', 0)\n",
    "d = d.replace('spotting  urination',0)\n",
    "df = d.replace('foul smell of urine',0)\n",
    "df.head(10)"
   ]
  },
  {
   "cell_type": "markdown",
   "id": "a5c9af2d",
   "metadata": {
    "_cell_guid": "8fca4221-feb8-47da-88ef-1ceacc044a0d",
    "_uuid": "097e0035-b42a-4730-b9f9-fcc81adba99c",
    "id": "a5c9af2d",
    "papermill": {
     "duration": 0.018315,
     "end_time": "2023-09-20T12:06:01.930476",
     "exception": false,
     "start_time": "2023-09-20T12:06:01.912161",
     "status": "completed"
    },
    "tags": []
   },
   "source": [
    "**Check if entire columns have zero values so we can drop those values**"
   ]
  },
  {
   "cell_type": "code",
   "execution_count": 17,
   "id": "c61bf339",
   "metadata": {
    "_cell_guid": "6cd61d74-8ce2-4ecc-91af-6150b2aa7a07",
    "_uuid": "0dd702ce-df6a-43d6-b666-6683b3a83a83",
    "colab": {
     "base_uri": "https://localhost:8080/"
    },
    "collapsed": false,
    "id": "c61bf339",
    "jupyter": {
     "outputs_hidden": false
    },
    "outputId": "824c0cfc-0e05-4adb-9df6-a300a2f3595a",
    "papermill": {
     "duration": 0.046473,
     "end_time": "2023-09-20T12:06:01.995371",
     "exception": false,
     "start_time": "2023-09-20T12:06:01.948898",
     "status": "completed"
    },
    "tags": []
   },
   "outputs": [
    {
     "name": "stdout",
     "output_type": "stream",
     "text": [
      "           count\n",
      "Disease        0\n",
      "Symptom_1      0\n",
      "Symptom_2      0\n",
      "Symptom_3      0\n",
      "Symptom_4      0\n",
      "Symptom_5      0\n",
      "Symptom_6      0\n"
     ]
    }
   ],
   "source": [
    "null_checker = df.apply(lambda x: sum(x.isnull())).to_frame(name='count')\n",
    "print(null_checker)"
   ]
  },
  {
   "cell_type": "code",
   "execution_count": 18,
   "id": "79601003",
   "metadata": {
    "_cell_guid": "21f77440-eb5e-4618-aea3-dc2efc707040",
    "_uuid": "2a7fd353-14a9-477a-90d9-4b2be95920f7",
    "colab": {
     "base_uri": "https://localhost:8080/",
     "height": 542
    },
    "collapsed": false,
    "id": "79601003",
    "jupyter": {
     "outputs_hidden": false
    },
    "outputId": "47e0cd28-893c-4e7d-84a0-67214ea22c19",
    "papermill": {
     "duration": 0.151707,
     "end_time": "2023-09-20T12:06:02.165639",
     "exception": false,
     "start_time": "2023-09-20T12:06:02.013932",
     "status": "completed"
    },
    "tags": []
   },
   "outputs": [
    {
     "data": {
      "image/png": "[encoded data removed]",
      "text/plain": [
       "<Figure size 1000x500 with 1 Axes>"
      ]
     },
     "metadata": {},
     "output_type": "display_data"
    }
   ],
   "source": [
    "plt.figure(figsize=(10,5))\n",
    "plt.plot(null_checker.index, null_checker['count'])\n",
    "plt.xticks(null_checker.index, null_checker.index, rotation=45,\n",
    "horizontalalignment='right')\n",
    "plt.title('After removing Null values')\n",
    "plt.xlabel('column names')\n",
    "plt.margins(0.01)\n",
    "plt.show()"
   ]
  },
  {
   "cell_type": "code",
   "execution_count": 19,
   "id": "ade466ff",
   "metadata": {
    "_cell_guid": "2fc05134-a8fd-42e6-be79-92d2c83328c4",
    "_uuid": "f0559287-b607-4bd0-a07c-93e8a144a982",
    "colab": {
     "base_uri": "https://localhost:8080/"
    },
    "collapsed": false,
    "id": "ade466ff",
    "jupyter": {
     "outputs_hidden": false
    },
    "outputId": "a5932d4f-6d2d-425c-eb80-2dd5cb32aabc",
    "papermill": {
     "duration": 0.048108,
     "end_time": "2023-09-20T12:06:02.252602",
     "exception": false,
     "start_time": "2023-09-20T12:06:02.204494",
     "status": "completed"
    },
    "tags": []
   },
   "outputs": [
    {
     "name": "stdout",
     "output_type": "stream",
     "text": [
      "Number of symptoms used to identify the disease  132\n",
      "Number of diseases that can be identified  41\n"
     ]
    }
   ],
   "source": [
    "print(\"Number of symptoms used to identify the disease \",len(df1['Symptom'].unique()))\n",
    "print(\"Number of diseases that can be identified \",len(df['Disease'].unique()))"
   ]
  },
  {
   "cell_type": "markdown",
   "id": "e9b0d324",
   "metadata": {
    "_cell_guid": "68faa3c9-2e3d-4e3b-ad38-7bdecff9be19",
    "_uuid": "866d4ebe-823c-45c4-b725-71e4810e2bd5",
    "id": "e9b0d324",
    "papermill": {
     "duration": 0.017447,
     "end_time": "2023-09-20T12:06:02.288638",
     "exception": false,
     "start_time": "2023-09-20T12:06:02.271191",
     "status": "completed"
    },
    "tags": []
   },
   "source": [
    "**Get the names of diseases from data**"
   ]
  },
  {
   "cell_type": "code",
   "execution_count": 20,
   "id": "34e8bde0",
   "metadata": {
    "_cell_guid": "edf05d9a-3867-462c-941e-1064a9671b47",
    "_uuid": "31370021-65d3-4a6f-a1f2-3057605bc70b",
    "colab": {
     "base_uri": "https://localhost:8080/"
    },
    "collapsed": false,
    "id": "34e8bde0",
    "jupyter": {
     "outputs_hidden": false
    },
    "outputId": "d46b49e0-a93d-449e-9cee-e62ede7d58a0",
    "papermill": {
     "duration": 0.034189,
     "end_time": "2023-09-20T12:06:02.341974",
     "exception": false,
     "start_time": "2023-09-20T12:06:02.307785",
     "status": "completed"
    },
    "tags": []
   },
   "outputs": [
    {
     "data": {
      "text/plain": [
       "array(['Acne', 'Hyperthyroidism', 'AIDS', 'Chronic cholestasis',\n",
       "       'Hypertension', 'Hypoglycemia', 'Arthritis', 'Hepatitis B',\n",
       "       'Migraine', 'Urinary tract infection', 'Diabetes', 'Hepatitis D',\n",
       "       'Psoriasis', 'Alcoholic hepatitis', 'Dimorphic hemmorhoids(piles)',\n",
       "       'Hepatitis E', 'Cervical spondylosis', 'Bronchial Asthma',\n",
       "       'hepatitis A', 'Allergy', 'Hepatitis C', 'Pneumonia',\n",
       "       'Hypothyroidism', 'Gastroenteritis', 'Varicose veins', 'Jaundice',\n",
       "       'Drug Reaction', '(vertigo) Paroymsal  Positional Vertigo',\n",
       "       'Heart attack', 'Tuberculosis', 'Typhoid', 'Common Cold',\n",
       "       'Peptic ulcer diseae', 'Paralysis (brain hemorrhage)',\n",
       "       'Fungal infection', 'Impetigo', 'GERD', 'Dengue', 'Malaria',\n",
       "       'Chicken pox', 'Osteoarthristis'], dtype=object)"
      ]
     },
     "execution_count": 20,
     "metadata": {},
     "output_type": "execute_result"
    }
   ],
   "source": [
    "df['Disease'].unique()"
   ]
  },
  {
   "cell_type": "markdown",
   "id": "f46e2fc4",
   "metadata": {
    "_cell_guid": "18ee0dab-0601-4f9c-b8bb-7891e041184f",
    "_uuid": "4474ec57-74c6-4dc8-ac9f-953a2b30d95f",
    "id": "f46e2fc4",
    "papermill": {
     "duration": 0.018879,
     "end_time": "2023-09-20T12:06:02.379627",
     "exception": false,
     "start_time": "2023-09-20T12:06:02.360748",
     "status": "completed"
    },
    "tags": []
   },
   "source": [
    "### Select the features as symptoms column and label as Disease column\n",
    "\n",
    "Explination: A **feature** is an input; **label** is an output.\n",
    "A feature is one column of the data in your input set. For instance, if you're trying to predict the type of pet someone will choose, your input features might include age, home region, family income, etc. The label is the final choice, such as dog, fish, iguana, rock, etc.\n",
    "\n",
    "Once you've trained your model, you will give it sets of new input containing those features; it will return the predicted \"label\" (pet type) for that person."
   ]
  },
  {
   "cell_type": "code",
   "execution_count": 21,
   "id": "61c0adff",
   "metadata": {
    "_cell_guid": "d4ff920c-64ec-4d35-9336-fdabd0b22f1a",
    "_uuid": "29d03525-5cdc-4697-a355-65fe20426a2e",
    "collapsed": false,
    "id": "61c0adff",
    "jupyter": {
     "outputs_hidden": false
    },
    "papermill": {
     "duration": 0.033486,
     "end_time": "2023-09-20T12:06:02.431859",
     "exception": false,
     "start_time": "2023-09-20T12:06:02.398373",
     "status": "completed"
    },
    "tags": []
   },
   "outputs": [],
   "source": [
    "data = df.iloc[:,1:].values\n",
    "labels = df['Disease'].values"
   ]
  },
  {
   "cell_type": "markdown",
   "id": "f9770f52",
   "metadata": {
    "_cell_guid": "44a9f70d-ea31-4753-9939-c1829f42f7e8",
    "_uuid": "47dce789-6260-4ed0-adce-56422ba9e22c",
    "id": "f9770f52",
    "papermill": {
     "duration": 0.019544,
     "end_time": "2023-09-20T12:06:02.471550",
     "exception": false,
     "start_time": "2023-09-20T12:06:02.452006",
     "status": "completed"
    },
    "tags": []
   },
   "source": [
    "## Splitting the dataset to training (80%) and testing (20%)\n",
    "\n",
    "Separating data into training and testing sets is an important part of evaluating data mining models. Typically, when you separate a data set into a training set and testing set, most of the data is used for training, and a smaller portion of the data is used for testing. By using similar data for training and testing, you can minimize the effects of data discrepancies and better understand the characteristics of the model.\n",
    "After a model has been processed by using the training set, we test the model by making predictions against the test set. Because the data in the testing set already contains known values for the attribute that you want to predict, it is easy to determine whether the model's guesses are correct.\n",
    "\n",
    "* Train Dataset: Used to fit the machine learning model.\n",
    "* Test Dataset: Used to evaluate the fit machine learning model."
   ]
  },
  {
   "cell_type": "code",
   "execution_count": 22,
   "id": "45266109",
   "metadata": {
    "_cell_guid": "eba54136-513f-4b10-8009-017d6314cd1b",
    "_uuid": "12a704c1-408f-49c4-9bf8-688c51f0fde4",
    "colab": {
     "base_uri": "https://localhost:8080/"
    },
    "collapsed": false,
    "id": "45266109",
    "jupyter": {
     "outputs_hidden": false
    },
    "outputId": "0a280968-e1b9-41b0-f64d-ee403a47374f",
    "papermill": {
     "duration": 0.032432,
     "end_time": "2023-09-20T12:06:02.523052",
     "exception": false,
     "start_time": "2023-09-20T12:06:02.490620",
     "status": "completed"
    },
    "tags": []
   },
   "outputs": [
    {
     "name": "stdout",
     "output_type": "stream",
     "text": [
      "(3936, 6) (984, 6) (3936,) (984,)\n"
     ]
    }
   ],
   "source": [
    "x_train, x_test, y_train, y_test = train_test_split(data, labels, train_size = 0.8,random_state=42)\n",
    "print(x_train.shape, x_test.shape, y_train.shape, y_test.shape)"
   ]
  },
  {
   "cell_type": "markdown",
   "id": "894f5562",
   "metadata": {
    "_cell_guid": "7015d70f-7c62-44b8-b5e8-d1da80d267dc",
    "_uuid": "4cb981fa-26b0-4107-a048-c4051dbaa4da",
    "id": "894f5562",
    "papermill": {
     "duration": 0.01823,
     "end_time": "2023-09-20T12:06:02.559656",
     "exception": false,
     "start_time": "2023-09-20T12:06:02.541426",
     "status": "completed"
    },
    "tags": []
   },
   "source": [
    "### Compute the F1 score, also known as balanced F-score or F-measure.\n",
    "\n",
    "The F1 score can be interpreted as a weighted average of the precision and\n",
    "recall, where an F1 score reaches its best value at 1 and worst score at 0.\n",
    "The relative contribution of precision and recall to the F1 score are\n",
    "equal. The formula for the F1 score is\n",
    "\n",
    "    F1 = 2 * (precision * recall) / (precision + recall)"
   ]
  },
  {
   "cell_type": "markdown",
   "id": "109919a3",
   "metadata": {
    "_cell_guid": "c5efdc06-c346-4ee6-944b-3a6d7e5c3032",
    "_uuid": "92928d82-f8a6-4499-bde3-e2488aebcc57",
    "id": "109919a3",
    "papermill": {
     "duration": 0.019651,
     "end_time": "2023-09-20T12:06:02.598199",
     "exception": false,
     "start_time": "2023-09-20T12:06:02.578548",
     "status": "completed"
    },
    "tags": []
   },
   "source": [
    "# Decision Tree"
   ]
  },
  {
   "cell_type": "code",
   "execution_count": 23,
   "id": "392886e5",
   "metadata": {
    "_cell_guid": "c8a9e420-8f98-4308-b367-57b113fb449c",
    "_uuid": "8bdeebe4-9432-47ee-802a-1c58244619d1",
    "colab": {
     "base_uri": "https://localhost:8080/",
     "height": 668
    },
    "collapsed": false,
    "id": "392886e5",
    "jupyter": {
     "outputs_hidden": false
    },
    "outputId": "c7150671-9f88-4a26-e858-3ea0d1b82352",
    "papermill": {
     "duration": 0.498114,
     "end_time": "2023-09-20T12:06:03.114312",
     "exception": false,
     "start_time": "2023-09-20T12:06:02.616198",
     "status": "completed"
    },
    "tags": []
   },
   "outputs": [
    {
     "name": "stdout",
     "output_type": "stream",
     "text": [
      "F1-score% = 98.4608783339304 | Accuracy% = 98.47560975609755\n"
     ]
    },
    {
     "data": {
      "text/plain": [
       "<AxesSubplot:>"
      ]
     },
     "execution_count": 23,
     "metadata": {},
     "output_type": "execute_result"
    },
    {
     "data": {
      "image/png": "[encoded data removed]",
      "text/plain": [
       "<Figure size 640x480 with 2 Axes>"
      ]
     },
     "metadata": {},
     "output_type": "display_data"
    }
   ],
   "source": [
    "tree =DecisionTreeClassifier(criterion='gini',random_state=42,max_depth=13)\n",
    "tree.fit(x_train, y_train)\n",
    "preds=tree.predict(x_test)\n",
    "conf_mat = confusion_matrix(y_test, preds)\n",
    "df_cm = pd.DataFrame(conf_mat, index=df['Disease'].unique(), columns=df['Disease'].unique())\n",
    "print('F1-score% =', f1_score(y_test, preds, average='macro')*100, '|', 'Accuracy% =', accuracy_score(y_test, preds)*100)\n",
    "sns.heatmap(df_cm)"
   ]
  },
  {
   "cell_type": "code",
   "execution_count": 24,
   "id": "38030f63",
   "metadata": {
    "_cell_guid": "7f51eb7f-7e3a-41c5-8d8c-554e2d0d1343",
    "_uuid": "94286911-3306-458a-8f0e-a77e59ed78ea",
    "colab": {
     "base_uri": "https://localhost:8080/"
    },
    "collapsed": false,
    "id": "38030f63",
    "jupyter": {
     "outputs_hidden": false
    },
    "outputId": "ee824c39-f2c8-4b95-b059-2fefb8d3bcd8",
    "papermill": {
     "duration": 0.164582,
     "end_time": "2023-09-20T12:06:03.297154",
     "exception": false,
     "start_time": "2023-09-20T12:06:03.132572",
     "status": "completed"
    },
    "tags": []
   },
   "outputs": [
    {
     "name": "stdout",
     "output_type": "stream",
     "text": [
      "Mean Accuracy: 97.764%, Standard Deviation: (0.60%)\n"
     ]
    }
   ],
   "source": [
    "kfold = KFold(n_splits=10,shuffle=True,random_state=42)\n",
    "DS_train =cross_val_score(tree, x_train, y_train, cv=kfold, scoring='accuracy')\n",
    "pd.DataFrame(DS_train,columns=['Scores'])\n",
    "print(\"Mean Accuracy: %.3f%%, Standard Deviation: (%.2f%%)\" % (DS_train.mean()*100.0, DS_train.std()*100.0))"
   ]
  },
  {
   "cell_type": "code",
   "execution_count": 25,
   "id": "b68f7f3e",
   "metadata": {
    "_cell_guid": "802a24a9-7595-4dc5-891a-046cb17de946",
    "_uuid": "a15f00f5-92ab-4209-b27b-ab93dda10f70",
    "colab": {
     "base_uri": "https://localhost:8080/"
    },
    "collapsed": false,
    "id": "b68f7f3e",
    "jupyter": {
     "outputs_hidden": false
    },
    "outputId": "bf932d57-fb5b-4471-cea7-a4f99c742d80",
    "papermill": {
     "duration": 0.089738,
     "end_time": "2023-09-20T12:06:03.405911",
     "exception": false,
     "start_time": "2023-09-20T12:06:03.316173",
     "status": "completed"
    },
    "tags": []
   },
   "outputs": [
    {
     "name": "stdout",
     "output_type": "stream",
     "text": [
      "Mean Accuracy: 93.486%, Standard Deviation: (4.36%)\n"
     ]
    }
   ],
   "source": [
    "kfold = KFold(n_splits=10,shuffle=True,random_state=42)\n",
    "DS_test =cross_val_score(tree, x_test, y_test, cv=kfold, scoring='accuracy')\n",
    "pd.DataFrame(DS_test,columns=['Scores'])\n",
    "print(\"Mean Accuracy: %.3f%%, Standard Deviation: (%.2f%%)\" % (DS_test.mean()*100.0, DS_test.std()*100.0))"
   ]
  },
  {
   "cell_type": "markdown",
   "id": "20fa9aba",
   "metadata": {
    "_cell_guid": "af666bda-8bd8-48c2-895b-1494e3fc10ab",
    "_uuid": "5e8264a7-caca-46f5-9dc8-910373c6757c",
    "id": "20fa9aba",
    "papermill": {
     "duration": 0.018317,
     "end_time": "2023-09-20T12:06:03.443694",
     "exception": false,
     "start_time": "2023-09-20T12:06:03.425377",
     "status": "completed"
    },
    "tags": []
   },
   "source": [
    "# Random Forest"
   ]
  },
  {
   "cell_type": "code",
   "execution_count": 26,
   "id": "67816138",
   "metadata": {
    "_cell_guid": "a870e5f4-9438-4b74-b89a-7d308a8b4d5d",
    "_uuid": "7d7019c6-586d-4903-ac8b-bd66ebb32ae3",
    "collapsed": false,
    "id": "67816138",
    "jupyter": {
     "outputs_hidden": false
    },
    "papermill": {
     "duration": 0.02925,
     "end_time": "2023-09-20T12:06:03.492001",
     "exception": false,
     "start_time": "2023-09-20T12:06:03.462751",
     "status": "completed"
    },
    "tags": []
   },
   "outputs": [],
   "source": [
    "rfc=RandomForestClassifier(random_state=42)"
   ]
  },
  {
   "cell_type": "code",
   "execution_count": 27,
   "id": "6c2a1edb",
   "metadata": {
    "_cell_guid": "1855177b-822b-46b7-bc97-e962af727a04",
    "_uuid": "a563b409-5026-4353-97a9-30f95eff42eb",
    "colab": {
     "base_uri": "https://localhost:8080/",
     "height": 702
    },
    "collapsed": false,
    "id": "6c2a1edb",
    "jupyter": {
     "outputs_hidden": false
    },
    "outputId": "d9c07cd4-ba9b-4a0a-d309-28e77dadef58",
    "papermill": {
     "duration": 2.367429,
     "end_time": "2023-09-20T12:06:05.877691",
     "exception": false,
     "start_time": "2023-09-20T12:06:03.510262",
     "status": "completed"
    },
    "tags": []
   },
   "outputs": [
    {
     "name": "stdout",
     "output_type": "stream",
     "text": [
      "[3 5 3 5 4 4]\n",
      "Migraine\n",
      "F1-score% = 98.55403416070546 | Accuracy% = 98.57723577235772\n"
     ]
    },
    {
     "data": {
      "text/plain": [
       "<AxesSubplot:>"
      ]
     },
     "execution_count": 27,
     "metadata": {},
     "output_type": "execute_result"
    },
    {
     "data": {
      "image/png": "[encoded data removed]",
      "text/plain": [
       "<Figure size 640x480 with 2 Axes>"
      ]
     },
     "metadata": {},
     "output_type": "display_data"
    }
   ],
   "source": [
    "rnd_forest = RandomForestClassifier(random_state=42, max_features='sqrt', n_estimators= 500, max_depth=13)\n",
    "rnd_forest.fit(x_train,y_train)\n",
    "preds=rnd_forest.predict(x_test)\n",
    "print(x_test[0])\n",
    "print(preds[0])\n",
    "conf_mat = confusion_matrix(y_test, preds)\n",
    "df_cm = pd.DataFrame(conf_mat, index=df['Disease'].unique(), columns=df['Disease'].unique())\n",
    "print('F1-score% =', f1_score(y_test, preds, average='macro')*100, '|', 'Accuracy% =', accuracy_score(y_test, preds)*100)\n",
    "sns.heatmap(df_cm)"
   ]
  },
  {
   "cell_type": "code",
   "execution_count": 28,
   "id": "af2bff4c",
   "metadata": {
    "_cell_guid": "8e5a217d-4e05-41d8-b381-a1f8f583cd8a",
    "_uuid": "cb0b2ccc-9359-410a-92b8-5636c44bf917",
    "colab": {
     "base_uri": "https://localhost:8080/"
    },
    "collapsed": false,
    "id": "af2bff4c",
    "jupyter": {
     "outputs_hidden": false
    },
    "outputId": "39e7c513-2834-48d4-a600-18633c3243bb",
    "papermill": {
     "duration": 17.797616,
     "end_time": "2023-09-20T12:06:23.694767",
     "exception": false,
     "start_time": "2023-09-20T12:06:05.897151",
     "status": "completed"
    },
    "tags": []
   },
   "outputs": [
    {
     "name": "stdout",
     "output_type": "stream",
     "text": [
      "Mean Accuracy: 98.526%, Standard Deviation: (0.34%)\n"
     ]
    }
   ],
   "source": [
    "kfold = KFold(n_splits=10,shuffle=True,random_state=42)\n",
    "rnd_forest_train =cross_val_score(rnd_forest, x_train, y_train, cv=kfold, scoring='accuracy')\n",
    "pd.DataFrame(rnd_forest_train,columns=['Scores'])\n",
    "print(\"Mean Accuracy: %.3f%%, Standard Deviation: (%.2f%%)\" % (rnd_forest_train.mean()*100.0, rnd_forest_train.std()*100.0))"
   ]
  },
  {
   "cell_type": "code",
   "execution_count": 29,
   "id": "4a2e94e1",
   "metadata": {
    "_cell_guid": "e5600f7a-2c8d-4c49-8985-09cd92221103",
    "_uuid": "d4e1bcaa-15d3-4e39-8cb4-7a1cf7ec1d3b",
    "colab": {
     "base_uri": "https://localhost:8080/"
    },
    "collapsed": false,
    "id": "4a2e94e1",
    "jupyter": {
     "outputs_hidden": false
    },
    "outputId": "e0ee7089-ad26-4342-ce65-b2ce85838caa",
    "papermill": {
     "duration": 10.484169,
     "end_time": "2023-09-20T12:06:34.197978",
     "exception": false,
     "start_time": "2023-09-20T12:06:23.713809",
     "status": "completed"
    },
    "tags": []
   },
   "outputs": [
    {
     "name": "stdout",
     "output_type": "stream",
     "text": [
      "Mean Accuracy: 95.525%, Standard Deviation: (1.95%)\n"
     ]
    }
   ],
   "source": [
    "kfold = KFold(n_splits=10,shuffle=True,random_state=42)\n",
    "rnd_forest_test =cross_val_score(rnd_forest, x_test, y_test, cv=kfold, scoring='accuracy')\n",
    "pd.DataFrame(rnd_forest_test,columns=['Scores'])\n",
    "print(\"Mean Accuracy: %.3f%%, Standard Deviation: (%.2f%%)\" % (rnd_forest_test.mean()*100.0, rnd_forest_test.std()*100.0))"
   ]
  },
  {
   "cell_type": "markdown",
   "id": "25e4e804",
   "metadata": {
    "_cell_guid": "aeba95ef-c8a6-46af-a930-cf045c02e675",
    "_uuid": "5af59942-b60d-40df-ae17-91d7acddec12",
    "id": "25e4e804",
    "papermill": {
     "duration": 0.017803,
     "end_time": "2023-09-20T12:06:34.233795",
     "exception": false,
     "start_time": "2023-09-20T12:06:34.215992",
     "status": "completed"
    },
    "tags": []
   },
   "source": [
    "# Fucntion to manually test the models"
   ]
  },
  {
   "cell_type": "code",
   "execution_count": 31,
   "id": "2fe74dff",
   "metadata": {
    "_cell_guid": "61419045-cc8e-40c8-8c88-5d8b996350cf",
    "_uuid": "54c4be9e-befc-42eb-94d6-2fb759cee77c",
    "collapsed": false,
    "id": "2fe74dff",
    "jupyter": {
     "outputs_hidden": false
    },
    "papermill": {
     "duration": 0.042014,
     "end_time": "2023-09-20T12:06:34.293959",
     "exception": false,
     "start_time": "2023-09-20T12:06:34.251945",
     "status": "completed"
    },
    "tags": []
   },
   "outputs": [],
   "source": [
    "discrp = pd.read_csv(\"../data/symptom_Description.csv\")"
   ]
  },
  {
   "cell_type": "code",
   "execution_count": 32,
   "id": "82e9eb32",
   "metadata": {
    "_cell_guid": "545b91a9-1693-4853-a367-e3137713e82b",
    "_uuid": "1bc7d645-87fb-4356-a8de-c92e30e54895",
    "colab": {
     "base_uri": "https://localhost:8080/",
     "height": 206
    },
    "collapsed": false,
    "id": "82e9eb32",
    "jupyter": {
     "outputs_hidden": false
    },
    "outputId": "d28ad5bf-343c-478e-87b2-48e8036f2910",
    "papermill": {
     "duration": 0.035018,
     "end_time": "2023-09-20T12:06:34.347414",
     "exception": false,
     "start_time": "2023-09-20T12:06:34.312396",
     "status": "completed"
    },
    "tags": []
   },
   "outputs": [
    {
     "data": {
      "text/html": [
       "<div>\n",
       "<style scoped>\n",
       "    .dataframe tbody tr th:only-of-type {\n",
       "        vertical-align: middle;\n",
       "    }\n",
       "\n",
       "    .dataframe tbody tr th {\n",
       "        vertical-align: top;\n",
       "    }\n",
       "\n",
       "    .dataframe thead th {\n",
       "        text-align: right;\n",
       "    }\n",
       "</style>\n",
       "<table border=\"1\" class=\"dataframe\">\n",
       "  <thead>\n",
       "    <tr style=\"text-align: right;\">\n",
       "      <th></th>\n",
       "      <th>Disease</th>\n",
       "      <th>Description</th>\n",
       "    </tr>\n",
       "  </thead>\n",
       "  <tbody>\n",
       "    <tr>\n",
       "      <th>0</th>\n",
       "      <td>Drug Reaction</td>\n",
       "      <td>An adverse drug reaction (ADR) is an injury ca...</td>\n",
       "    </tr>\n",
       "    <tr>\n",
       "      <th>1</th>\n",
       "      <td>Malaria</td>\n",
       "      <td>An infectious disease caused by protozoan para...</td>\n",
       "    </tr>\n",
       "    <tr>\n",
       "      <th>2</th>\n",
       "      <td>Allergy</td>\n",
       "      <td>An allergy is an immune system response to a f...</td>\n",
       "    </tr>\n",
       "    <tr>\n",
       "      <th>3</th>\n",
       "      <td>Hypothyroidism</td>\n",
       "      <td>Hypothyroidism, also called underactive thyroi...</td>\n",
       "    </tr>\n",
       "    <tr>\n",
       "      <th>4</th>\n",
       "      <td>Psoriasis</td>\n",
       "      <td>Psoriasis is a common skin disorder that forms...</td>\n",
       "    </tr>\n",
       "  </tbody>\n",
       "</table>\n",
       "</div>"
      ],
      "text/plain": [
       "          Disease                                        Description\n",
       "0   Drug Reaction  An adverse drug reaction (ADR) is an injury ca...\n",
       "1         Malaria  An infectious disease caused by protozoan para...\n",
       "2         Allergy  An allergy is an immune system response to a f...\n",
       "3  Hypothyroidism  Hypothyroidism, also called underactive thyroi...\n",
       "4       Psoriasis  Psoriasis is a common skin disorder that forms..."
      ]
     },
     "execution_count": 32,
     "metadata": {},
     "output_type": "execute_result"
    }
   ],
   "source": [
    "discrp.head()"
   ]
  },
  {
   "cell_type": "code",
   "execution_count": 34,
   "id": "0db7470c",
   "metadata": {
    "_cell_guid": "f24fad20-368d-4f93-9dc4-a4f84012a926",
    "_uuid": "e6e8db22-b8a4-4c00-bcb3-1cc6c1684c4b",
    "collapsed": false,
    "id": "0db7470c",
    "jupyter": {
     "outputs_hidden": false
    },
    "papermill": {
     "duration": 0.041667,
     "end_time": "2023-09-20T12:06:34.407591",
     "exception": false,
     "start_time": "2023-09-20T12:06:34.365924",
     "status": "completed"
    },
    "tags": []
   },
   "outputs": [],
   "source": [
    "ektra7at = pd.read_csv(\"../data/symptom_precaution.csv\")"
   ]
  },
  {
   "cell_type": "code",
   "execution_count": 35,
   "id": "e7d141bc",
   "metadata": {
    "_cell_guid": "7b8a4127-1444-444c-8667-d98fd3f73308",
    "_uuid": "9927446e-9fb7-46b7-bd04-eaf2fd84d808",
    "colab": {
     "base_uri": "https://localhost:8080/",
     "height": 206
    },
    "collapsed": false,
    "id": "e7d141bc",
    "jupyter": {
     "outputs_hidden": false
    },
    "outputId": "181ec171-b2df-4979-9270-0e0568430428",
    "papermill": {
     "duration": 0.038483,
     "end_time": "2023-09-20T12:06:34.465681",
     "exception": false,
     "start_time": "2023-09-20T12:06:34.427198",
     "status": "completed"
    },
    "tags": []
   },
   "outputs": [
    {
     "data": {
      "text/html": [
       "<div>\n",
       "<style scoped>\n",
       "    .dataframe tbody tr th:only-of-type {\n",
       "        vertical-align: middle;\n",
       "    }\n",
       "\n",
       "    .dataframe tbody tr th {\n",
       "        vertical-align: top;\n",
       "    }\n",
       "\n",
       "    .dataframe thead th {\n",
       "        text-align: right;\n",
       "    }\n",
       "</style>\n",
       "<table border=\"1\" class=\"dataframe\">\n",
       "  <thead>\n",
       "    <tr style=\"text-align: right;\">\n",
       "      <th></th>\n",
       "      <th>Disease</th>\n",
       "      <th>Precaution_1</th>\n",
       "      <th>Precaution_2</th>\n",
       "      <th>Precaution_3</th>\n",
       "      <th>Precaution_4</th>\n",
       "    </tr>\n",
       "  </thead>\n",
       "  <tbody>\n",
       "    <tr>\n",
       "      <th>0</th>\n",
       "      <td>Drug Reaction</td>\n",
       "      <td>stop irritation</td>\n",
       "      <td>consult nearest hospital</td>\n",
       "      <td>stop taking drug</td>\n",
       "      <td>follow up</td>\n",
       "    </tr>\n",
       "    <tr>\n",
       "      <th>1</th>\n",
       "      <td>Malaria</td>\n",
       "      <td>Consult nearest hospital</td>\n",
       "      <td>avoid oily food</td>\n",
       "      <td>avoid non veg food</td>\n",
       "      <td>keep mosquitos out</td>\n",
       "    </tr>\n",
       "    <tr>\n",
       "      <th>2</th>\n",
       "      <td>Allergy</td>\n",
       "      <td>apply calamine</td>\n",
       "      <td>cover area with bandage</td>\n",
       "      <td>NaN</td>\n",
       "      <td>use ice to compress itching</td>\n",
       "    </tr>\n",
       "    <tr>\n",
       "      <th>3</th>\n",
       "      <td>Hypothyroidism</td>\n",
       "      <td>reduce stress</td>\n",
       "      <td>exercise</td>\n",
       "      <td>eat healthy</td>\n",
       "      <td>get proper sleep</td>\n",
       "    </tr>\n",
       "    <tr>\n",
       "      <th>4</th>\n",
       "      <td>Psoriasis</td>\n",
       "      <td>wash hands with warm soapy water</td>\n",
       "      <td>stop bleeding using pressure</td>\n",
       "      <td>consult doctor</td>\n",
       "      <td>salt baths</td>\n",
       "    </tr>\n",
       "  </tbody>\n",
       "</table>\n",
       "</div>"
      ],
      "text/plain": [
       "          Disease                      Precaution_1  \\\n",
       "0   Drug Reaction                   stop irritation   \n",
       "1         Malaria          Consult nearest hospital   \n",
       "2         Allergy                    apply calamine   \n",
       "3  Hypothyroidism                     reduce stress   \n",
       "4       Psoriasis  wash hands with warm soapy water   \n",
       "\n",
       "                   Precaution_2        Precaution_3  \\\n",
       "0      consult nearest hospital    stop taking drug   \n",
       "1               avoid oily food  avoid non veg food   \n",
       "2       cover area with bandage                 NaN   \n",
       "3                      exercise         eat healthy   \n",
       "4  stop bleeding using pressure      consult doctor   \n",
       "\n",
       "                  Precaution_4  \n",
       "0                    follow up  \n",
       "1           keep mosquitos out  \n",
       "2  use ice to compress itching  \n",
       "3             get proper sleep  \n",
       "4                   salt baths  "
      ]
     },
     "execution_count": 35,
     "metadata": {},
     "output_type": "execute_result"
    }
   ],
   "source": [
    "ektra7at.head()"
   ]
  },
  {
   "cell_type": "markdown",
   "id": "8d30099f",
   "metadata": {
    "_cell_guid": "b330842d-c161-47a4-bd14-f47f88acac08",
    "_uuid": "e83f6bd5-f387-417f-b4df-47c39fc5a178",
    "id": "8d30099f",
    "papermill": {
     "duration": 0.018739,
     "end_time": "2023-09-20T12:06:34.503339",
     "exception": false,
     "start_time": "2023-09-20T12:06:34.484600",
     "status": "completed"
    },
    "tags": []
   },
   "source": [
    "**Save Random Forest model**"
   ]
  },
  {
   "cell_type": "code",
   "execution_count": 36,
   "id": "fc9084f9",
   "metadata": {
    "_cell_guid": "2143c8d3-dc55-48ce-90b2-e0de4980e7ee",
    "_uuid": "ab6f91a4-ae17-4c3e-959d-7ad4cba854fa",
    "colab": {
     "base_uri": "https://localhost:8080/"
    },
    "collapsed": false,
    "id": "fc9084f9",
    "jupyter": {
     "outputs_hidden": false
    },
    "outputId": "377848f6-b565-408d-ec8b-ab1db2728368",
    "papermill": {
     "duration": 0.032845,
     "end_time": "2023-09-20T12:06:34.555149",
     "exception": false,
     "start_time": "2023-09-20T12:06:34.522304",
     "status": "completed"
    },
    "tags": []
   },
   "outputs": [
    {
     "data": {
      "text/plain": [
       "['random_forest.joblib']"
      ]
     },
     "execution_count": 36,
     "metadata": {},
     "output_type": "execute_result"
    }
   ],
   "source": [
    "# save\n",
    "joblib.dump(rnd_forest, \"random_forest.joblib\")"
   ]
  },
  {
   "cell_type": "markdown",
   "id": "9d580046",
   "metadata": {
    "_cell_guid": "373dfe35-5c91-48c0-80ea-a2d1ae113e4c",
    "_uuid": "189ddab0-93bb-4682-8e24-578ab2b85930",
    "id": "9d580046",
    "papermill": {
     "duration": 0.018341,
     "end_time": "2023-09-20T12:06:34.592790",
     "exception": false,
     "start_time": "2023-09-20T12:06:34.574449",
     "status": "completed"
    },
    "tags": []
   },
   "source": [
    "**Load Model**"
   ]
  },
  {
   "cell_type": "code",
   "execution_count": 37,
   "id": "65860889",
   "metadata": {
    "_cell_guid": "460e6559-3ae6-4799-b2ed-f1e4e48f9845",
    "_uuid": "bf5eceec-92cc-4661-84ed-909d840b4e6c",
    "collapsed": false,
    "id": "65860889",
    "jupyter": {
     "outputs_hidden": false
    },
    "papermill": {
     "duration": 0.029644,
     "end_time": "2023-09-20T12:06:34.641132",
     "exception": false,
     "start_time": "2023-09-20T12:06:34.611488",
     "status": "completed"
    },
    "tags": []
   },
   "outputs": [],
   "source": [
    "# load, no need to initialize the loaded_rf\n",
    "loaded_rf = joblib.load(\"random_forest.joblib\")"
   ]
  },
  {
   "cell_type": "code",
   "execution_count": 38,
   "id": "a919f846",
   "metadata": {
    "_cell_guid": "86411b8b-e2db-4aa1-aec0-54b5c01a7164",
    "_uuid": "ecd6419c-ca99-4a9b-8b41-aba85f917eba",
    "collapsed": false,
    "id": "a919f846",
    "jupyter": {
     "outputs_hidden": false
    },
    "papermill": {
     "duration": 0.036441,
     "end_time": "2023-09-20T12:06:34.696793",
     "exception": false,
     "start_time": "2023-09-20T12:06:34.660352",
     "status": "completed"
    },
    "tags": []
   },
   "outputs": [],
   "source": [
    "def predd(x,S1,S2,S3,S4,S5,S6):\n",
    "    psymptoms = [S1,S2,S3,S4,S5,S6]\n",
    "    #print(psymptoms)\n",
    "    a = np.array(df1[\"Symptom\"])\n",
    "    b = np.array(df1[\"weight\"])\n",
    "    for j in range(len(psymptoms)):\n",
    "        for k in range(len(a)):\n",
    "            if psymptoms[j]==a[k]:\n",
    "                psymptoms[j]=b[k]\n",
    "    psy = [psymptoms]\n",
    "    pred2 = x.predict(psy)\n",
    "    disp= discrp[discrp['Disease']==pred2[0]]\n",
    "    disp = disp.values[0][1]\n",
    "    recomnd = ektra7at[ektra7at['Disease']==pred2[0]]\n",
    "    c=np.where(ektra7at['Disease']==pred2[0])[0][0]\n",
    "    precuation_list=[]\n",
    "    for i in range(1,len(ektra7at.iloc[c])):\n",
    "          precuation_list.append(ektra7at.iloc[c,i])\n",
    "    print(\"The Disease Name: \",pred2[0])\n",
    "    print(\"The Disease Discription: \",disp)\n",
    "    print(\"Recommended Things to do at home: \")\n",
    "    for i in precuation_list:\n",
    "        print(i)"
   ]
  },
  {
   "cell_type": "markdown",
   "id": "8c6ee62e",
   "metadata": {
    "_cell_guid": "7717f738-4f1c-4128-809f-f781c37c2a8b",
    "_uuid": "23b095ae-c494-4fa2-aac6-49f5d89f6f3d",
    "id": "8c6ee62e",
    "papermill": {
     "duration": 0.018584,
     "end_time": "2023-09-20T12:06:34.734704",
     "exception": false,
     "start_time": "2023-09-20T12:06:34.716120",
     "status": "completed"
    },
    "tags": []
   },
   "source": [
    "# Comparison between algorithms testing and training"
   ]
  },
  {
   "cell_type": "code",
   "execution_count": 39,
   "id": "bae86742",
   "metadata": {
    "_cell_guid": "0be53a08-6835-4653-8540-5661f4f03160",
    "_uuid": "eb223f60-ec21-4430-81b5-ba1078b4317f",
    "collapsed": false,
    "id": "bae86742",
    "jupyter": {
     "outputs_hidden": false
    },
    "papermill": {
     "duration": 0.029744,
     "end_time": "2023-09-20T12:06:34.783392",
     "exception": false,
     "start_time": "2023-09-20T12:06:34.753648",
     "status": "completed"
    },
    "tags": []
   },
   "outputs": [],
   "source": [
    "n_groups = 2\n",
    "algorithms = ('Decision Tree', 'Random Forest')\n",
    "train_accuracy = (DS_train.mean()*100.0,\n",
    "                 rnd_forest_train.mean()*100.0,)"
   ]
  },
  {
   "cell_type": "code",
   "execution_count": 40,
   "id": "deac3f06",
   "metadata": {
    "_cell_guid": "e19bac66-130a-4381-a93d-6d571d054230",
    "_uuid": "6ff6e50e-c79e-45d2-ad71-a96a2e6fa12c",
    "collapsed": false,
    "id": "deac3f06",
    "jupyter": {
     "outputs_hidden": false
    },
    "papermill": {
     "duration": 0.030447,
     "end_time": "2023-09-20T12:06:34.832625",
     "exception": false,
     "start_time": "2023-09-20T12:06:34.802178",
     "status": "completed"
    },
    "tags": []
   },
   "outputs": [],
   "source": [
    "test_accuracy = (DS_test.mean()*100.0,\n",
    "                 rnd_forest_test.mean()*100.0)"
   ]
  },
  {
   "cell_type": "code",
   "execution_count": 41,
   "id": "4cd7b00d",
   "metadata": {
    "_cell_guid": "e98f3945-4dd1-4d10-8fbb-83b24a389ab0",
    "_uuid": "4a74952f-39ba-4400-a06a-a2e3452e20c3",
    "collapsed": false,
    "id": "4cd7b00d",
    "jupyter": {
     "outputs_hidden": false
    },
    "papermill": {
     "duration": 0.029288,
     "end_time": "2023-09-20T12:06:34.880779",
     "exception": false,
     "start_time": "2023-09-20T12:06:34.851491",
     "status": "completed"
    },
    "tags": []
   },
   "outputs": [],
   "source": [
    "Standard_Deviation=(DS_test.std()*100.0,\n",
    "                 rnd_forest_test.std()*100.0)"
   ]
  },
  {
   "cell_type": "code",
   "execution_count": 42,
   "id": "a75cb427",
   "metadata": {
    "_cell_guid": "0fc8784f-61b9-4c0e-abfb-b670954358a9",
    "_uuid": "0b3df1e1-37b1-4c10-b371-f845a6bb1c68",
    "colab": {
     "base_uri": "https://localhost:8080/",
     "height": 785
    },
    "collapsed": false,
    "id": "a75cb427",
    "jupyter": {
     "outputs_hidden": false
    },
    "outputId": "9ea1c74c-d945-4f7a-f487-a25158ef8145",
    "papermill": {
     "duration": 0.138238,
     "end_time": "2023-09-20T12:06:35.038591",
     "exception": false,
     "start_time": "2023-09-20T12:06:34.900353",
     "status": "completed"
    },
    "tags": []
   },
   "outputs": [
    {
     "data": {
      "image/png": "[encoded data removed]",
      "text/plain": [
       "<Figure size 1500x1000 with 1 Axes>"
      ]
     },
     "metadata": {},
     "output_type": "display_data"
    }
   ],
   "source": [
    "# create plot\n",
    "fig, ax = plt.subplots(figsize=(15, 10))\n",
    "index = np.arange(n_groups)\n",
    "bar_width = 0.3\n",
    "opacity = 1\n",
    "rects1 = plt.bar(index, train_accuracy, bar_width, alpha = opacity, color='Cornflowerblue', label='Train')\n",
    "rects2 = plt.bar(index + bar_width, test_accuracy, bar_width, alpha = opacity, color='Teal', label='Test')\n",
    "rects3 = plt.bar(index + bar_width, Standard_Deviation, bar_width, alpha = opacity, color='red', label='Standard Deviation')\n",
    "plt.xlabel('Algorithm') # x axis label\n",
    "plt.ylabel('Accuracy (%)') # y axis label\n",
    "plt.ylim(0, 115)\n",
    "plt.title('Comparison of Algorithm Accuracies') # plot title\n",
    "plt.xticks(index + bar_width * 0.5, algorithms) # x axis data labels\n",
    "plt.legend(loc = 'upper right') # show legend\n",
    "for index, data in enumerate(train_accuracy):\n",
    "    plt.text(x = index - 0.035, y = data + 1, s = round(data, 2), fontdict = dict(fontsize = 8))\n",
    "for index, data in enumerate(test_accuracy):\n",
    "    plt.text(x = index + 0.25, y = data + 1, s = round(data, 2), fontdict = dict(fontsize = 8))\n",
    "for index, data in enumerate(Standard_Deviation):\n",
    "    plt.text(x = index + 0.25, y = data + 1, s = round(data, 2), fontdict = dict(fontsize = 8))"
   ]
  },
  {
   "cell_type": "markdown",
   "id": "9bba9b06",
   "metadata": {
    "_cell_guid": "6a625d4b-687e-4c3c-8622-9515ec5e5f0a",
    "_uuid": "41179faa-8b0e-4edf-8b4c-406149c3ebc6",
    "id": "9bba9b06",
    "papermill": {
     "duration": 0.033825,
     "end_time": "2023-09-20T12:06:35.105243",
     "exception": false,
     "start_time": "2023-09-20T12:06:35.071418",
     "status": "completed"
    },
    "tags": []
   },
   "source": [
    "**Test it Like The user would do**"
   ]
  },
  {
   "cell_type": "code",
   "execution_count": 43,
   "id": "340e7d08",
   "metadata": {
    "_cell_guid": "b1f012be-7f47-4bbb-9b8b-d666c2288832",
    "_uuid": "14175d0b-987f-40e0-92be-4160621ca228",
    "colab": {
     "base_uri": "https://localhost:8080/"
    },
    "collapsed": false,
    "id": "340e7d08",
    "jupyter": {
     "outputs_hidden": false
    },
    "outputId": "13ac6443-42d8-405e-82e3-d37895655609",
    "papermill": {
     "duration": 0.087418,
     "end_time": "2023-09-20T12:06:35.211587",
     "exception": false,
     "start_time": "2023-09-20T12:06:35.124169",
     "status": "completed"
    },
    "tags": []
   },
   "outputs": [
    {
     "name": "stdout",
     "output_type": "stream",
     "text": [
      "The Disease Name:  Paralysis (brain hemorrhage)\n",
      "The Disease Discription:  Intracerebral hemorrhage (ICH) is when blood suddenly bursts into brain tissue, causing damage to your brain. Symptoms usually appear suddenly during ICH. They include headache, weakness, confusion, and paralysis, particularly on one side of your body.\n",
      "Recommended Things to do at home: \n",
      "massage\n",
      "eat healthy\n",
      "exercise\n",
      "consult doctor\n"
     ]
    }
   ],
   "source": [
    "sympList=df1[\"Symptom\"].to_list()\n",
    "predd(rnd_forest,sympList[7],sympList[5],sympList[2],sympList[80],0,0)"
   ]
  },
  {
   "cell_type": "code",
   "execution_count": 44,
   "id": "7866fc2e",
   "metadata": {
    "_cell_guid": "e07e9315-d0da-48d7-a131-9c4b8b54a171",
    "_uuid": "7aacd624-d3ba-4dc0-912e-794edf07a115",
    "collapsed": false,
    "id": "7866fc2e",
    "jupyter": {
     "outputs_hidden": false
    },
    "papermill": {
     "duration": 0.018756,
     "end_time": "2023-09-20T12:06:35.249891",
     "exception": false,
     "start_time": "2023-09-20T12:06:35.231135",
     "status": "completed"
    },
    "tags": []
   },
   "outputs": [],
   "source": [
    "import json"
   ]
  },
  {
   "cell_type": "code",
   "execution_count": 45,
   "id": "v6SLYod6BrJt",
   "metadata": {
    "id": "v6SLYod6BrJt"
   },
   "outputs": [],
   "source": [
    "json_file_path = 'symptoms.json'\n",
    "\n",
    "# Save the list to a JSON file\n",
    "with open(json_file_path, 'w') as json_file:\n",
    "    json.dump(sympList, json_file)"
   ]
  },
  {
   "cell_type": "code",
   "execution_count": 46,
   "id": "vjn2TrqABuzs",
   "metadata": {
    "colab": {
     "base_uri": "https://localhost:8080/"
    },
    "id": "vjn2TrqABuzs",
    "outputId": "8905ae29-9ed6-43f4-a749-f7a45bdbe6eb"
   },
   "outputs": [
    {
     "name": "stdout",
     "output_type": "stream",
     "text": [
      "[\"itching\", \"skin rash\", \"nodal skin eruptions\", \"continuous sneezing\", \"shivering\", \"chills\", \"joint pain\", \"stomach pain\", \"acidity\", \"ulcers on tongue\", \"muscle wasting\", \"vomiting\", \"burning micturition\", \"spotting urination\", \"fatigue\", \"weight gain\", \"anxiety\", \"cold hands and feets\", \"mood swings\", \"weight loss\", \"restlessness\", \"lethargy\", \"patches in throat\", \"irregular sugar level\", \"cough\", \"high fever\", \"sunken eyes\", \"breathlessness\", \"sweating\", \"dehydration\", \"indigestion\", \"headache\", \"yellowish skin\", \"dark urine\", \"nausea\", \"loss of appetite\", \"pain behind the eyes\", \"back pain\", \"constipation\", \"abdominal pain\", \"diarrhoea\", \"mild fever\", \"yellow urine\", \"yellowing of eyes\", \"acute liver failure\", \"fluid overload\", \"swelling of stomach\", \"swelled lymph nodes\", \"malaise\", \"blurred and distorted vision\", \"phlegm\", \"throat irritation\", \"redness of eyes\", \"sinus pressure\", \"runny nose\", \"congestion\", \"chest pain\", \"weakness in limbs\", \"fast heart rate\", \"pain during bowel movements\", \"pain in anal region\", \"bloody stool\", \"irritation in anus\", \"neck pain\", \"dizziness\", \"cramps\", \"bruising\", \"obesity\", \"swollen legs\", \"swollen blood vessels\", \"puffy face and eyes\", \"enlarged thyroid\", \"brittle nails\", \"swollen extremeties\", \"excessive hunger\", \"extra marital contacts\", \"drying and tingling lips\", \"slurred speech\", \"knee pain\", \"hip joint pain\", \"muscle weakness\", \"stiff neck\", \"swelling joints\", \"movement stiffness\", \"spinning movements\", \"loss of balance\", \"unsteadiness\", \"weakness of one body side\", \"loss of smell\", \"bladder discomfort\", \"foul smell ofurine\", \"continuous feel of urine\", \"passage of gases\", \"internal itching\", \"toxic look (typhos)\", \"depression\", \"irritability\", \"muscle pain\", \"altered sensorium\", \"red spots over body\", \"belly pain\", \"abnormal menstruation\", \"dischromic patches\", \"watering from eyes\", \"increased appetite\", \"polyuria\", \"family history\", \"mucoid sputum\", \"rusty sputum\", \"lack of concentration\", \"visual disturbances\", \"receiving blood transfusion\", \"receiving unsterile injections\", \"coma\", \"stomach bleeding\", \"distention of abdomen\", \"history of alcohol consumption\", \"fluid overload\", \"blood in sputum\", \"prominent veins on calf\", \"palpitations\", \"painful walking\", \"pus filled pimples\", \"blackheads\", \"scurring\", \"skin peeling\", \"silver like dusting\", \"small dents in nails\", \"inflammatory nails\", \"blister\", \"red sore around nose\", \"yellow crust ooze\", \"prognosis\"]\n"
     ]
    }
   ],
   "source": [
    "with open(json_file_path, 'r') as json_file:\n",
    "    file_content = json_file.read()\n",
    "    print(file_content)"
   ]
  },
  {
   "cell_type": "code",
   "execution_count": 47,
   "id": "2cZRPzBWz61a",
   "metadata": {
    "id": "2cZRPzBWz61a"
   },
   "outputs": [],
   "source": [
    "import ast\n",
    "symptoms_list = ast.literal_eval(file_content)"
   ]
  },
  {
   "cell_type": "code",
   "execution_count": 48,
   "id": "uxqs_KrG01Av",
   "metadata": {
    "colab": {
     "base_uri": "https://localhost:8080/",
     "height": 36
    },
    "id": "uxqs_KrG01Av",
    "outputId": "18446e90-dd71-465c-af1c-830a21b783b2"
   },
   "outputs": [
    {
     "data": {
      "text/plain": [
       "'yellow crust ooze'"
      ]
     },
     "execution_count": 48,
     "metadata": {},
     "output_type": "execute_result"
    }
   ],
   "source": [
    "symptoms_list[i]"
   ]
  },
  {
   "cell_type": "code",
   "execution_count": 49,
   "id": "exIZ9bhR1T-k",
   "metadata": {
    "colab": {
     "base_uri": "https://localhost:8080/",
     "height": 36
    },
    "id": "exIZ9bhR1T-k",
    "outputId": "0174f835-37e3-4ac0-d617-925381feacd8"
   },
   "outputs": [
    {
     "data": {
      "text/plain": [
       "'\"'"
      ]
     },
     "execution_count": 49,
     "metadata": {},
     "output_type": "execute_result"
    }
   ],
   "source": [
    "file_content[1]"
   ]
  },
  {
   "cell_type": "code",
   "execution_count": 51,
   "id": "dpWB8jGl4n8z",
   "metadata": {
    "id": "dpWB8jGl4n8z"
   },
   "outputs": [],
   "source": [
    "psymptoms = [\"itching\", \"skin rash\", \"nodal skin eruptions\", \"continuous sneezing\", \"shivering\", \"chills\"]\n",
    "a = np.array(df1[\"Symptom\"])\n",
    "b = np.array(df1[\"weight\"])\n",
    "for j in range(len(psymptoms)):\n",
    "  for k in range(len(a)):\n",
    "    if psymptoms[j]==a[k]:\n",
    "        psymptoms[j]=b[k]\n",
    "psy = [psymptoms]\n",
    "pred2 = loaded_rf.predict(psy)[0]"
   ]
  },
  {
   "cell_type": "code",
   "execution_count": 52,
   "id": "9OUIJH2z8rmZ",
   "metadata": {
    "colab": {
     "base_uri": "https://localhost:8080/",
     "height": 36
    },
    "id": "9OUIJH2z8rmZ",
    "outputId": "54a67d4c-44ca-4e22-f9c5-c8a5b618baf0"
   },
   "outputs": [
    {
     "data": {
      "text/plain": [
       "'Chicken pox'"
      ]
     },
     "execution_count": 52,
     "metadata": {},
     "output_type": "execute_result"
    }
   ],
   "source": [
    "pred2"
   ]
  },
  {
   "cell_type": "code",
   "execution_count": 53,
   "id": "Eiduu_fpAmwT",
   "metadata": {
    "id": "Eiduu_fpAmwT"
   },
   "outputs": [],
   "source": [
    "import pickle as pk"
   ]
  },
  {
   "cell_type": "code",
   "execution_count": 54,
   "id": "JvgejpP-CUhy",
   "metadata": {
    "id": "JvgejpP-CUhy"
   },
   "outputs": [],
   "source": [
    "with open(\"random_forest.pkl\", \"wb\") as file:\n",
    "    pk.dump(rnd_forest, file)"
   ]
  },
  {
   "cell_type": "code",
   "execution_count": 55,
   "id": "j4hEWHUECl7J",
   "metadata": {
    "id": "j4hEWHUECl7J"
   },
   "outputs": [],
   "source": [
    "with open(\"random_forest.pkl\", \"rb\") as file:\n",
    "    loaded_model = pk.load(file)"
   ]
  },
  {
   "cell_type": "code",
   "execution_count": null,
   "id": "tm0kj8rKCsHC",
   "metadata": {
    "id": "tm0kj8rKCsHC"
   },
   "outputs": [],
   "source": []
  }
 ],
 "metadata": {
  "colab": {
   "provenance": []
  },
  "kernelspec": {
   "display_name": "Python 3 (ipykernel)",
   "language": "python",
   "name": "python3"
  },
  "language_info": {
   "codemirror_mode": {
    "name": "ipython",
    "version": 3
   },
   "file_extension": ".py",
   "mimetype": "text/x-python",
   "name": "python",
   "nbconvert_exporter": "python",
   "pygments_lexer": "ipython3",
   "version": "3.10.4"
  },
  "papermill": {
   "default_parameters": {},
   "duration": 55.846123,
   "end_time": "2023-09-20T12:06:36.295121",
   "environment_variables": {},
   "exception": null,
   "input_path": "__notebook__.ipynb",
   "output_path": "__notebook__.ipynb",
   "parameters": {},
   "start_time": "2023-09-20T12:05:40.448998",
   "version": "2.3.4"
  }
 },
 "nbformat": 4,
 "nbformat_minor": 5
}
